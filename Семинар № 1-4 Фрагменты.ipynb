{
 "cells": [
  {
   "cell_type": "markdown",
   "metadata": {},
   "source": [
    "<div><img src=\"Images/SKI_Header_1_Tr.png\" width=\"150%\"/></div>\n",
    "<p style=\"text-align: center; font-size: 36pt; font-weight: bold; color: rgb(0, 0, 190); padding: 20px; margin-top: 2%;\">КУРС</p>\n",
    "<p style=\"text-align: center; font-size: 36pt; font-weight: bold; color: rgb(0, 0, 190); padding: 40px; margin-top: -3%; line-height: 100%;\">Архитектура ЭВМ и язык ассемблера</p>\n",
    "<p style=\"text-align: center; font-size: 28pt; font-weight: bold; color: rgb(0, 0, 190); padding: 40px; margin-top: -3%; line-height: 100%;\">СЕМИНАРЫ</p>\n",
    "<p style=\"text-align: left; font-size: 20pt; font-weight: bold; color: rgb(0, 0, 190); padding: 20px; margin-top: -2%; line-height: 10%;\">Преподаватель:</p>\n",
    "<p style=\"text-align: left; font-size: 20pt; font-weight: bold; color: rgb(0, 0, 190); padding: 18px; margin-top: -2%; line-height: 100%;\">&nbsp;&nbsp;&nbsp;&nbsp;&nbsp;&nbsp;&nbsp;&nbsp;&nbsp;Русол Андрей Владимирович, к.т.н., с.н.с. ГЕОХИ РАН</p>\n",
    "<p style=\"text-align: center; font-size: 16pt; font-weight: bold; color: rgb(0, 0, 190); padding: 20px; margin-top: 2%;\">Москва 2021</p>\n"
   ]
  },
  {
   "cell_type": "markdown",
   "metadata": {},
   "source": [
    "<p style=\"text-align: center; font-size: 36pt; font-weight: bold; color: rgb(0, 0, 190); padding: 40px; margin-top: -3%; line-height: 100%;\">Семинары № 1 и 2</p>\n"
   ]
  },
  {
   "cell_type": "markdown",
   "metadata": {},
   "source": [
    "<p style=\"text-align: center; font-size: 30pt; font-weight: bold; color: rgb(0, 0, 190); padding: 40px; margin-top: -3%; line-height: 100%;\">Язык ассемблера</p>\n"
   ]
  },
  {
   "cell_type": "markdown",
   "metadata": {},
   "source": [
    "# Инструментарий\n",
    "\n",
    "\n",
    "В данном курсе основное внимание уделено программированию для платформы IA-32 (Intel Architecture 32-bit), реализованной как для Linux, так и для Windows. В среде ОС Linux архитектура ассемблера Intel реализована в проекте **NASM** и соперничает с ассемблером проекта **GAS**, реализующего подход AT&T и имеющего отличающийся синтаксис.\n",
    "\n",
    "Официальный сайт: https://www.nasm.us/\n",
    "\n",
    "Для практического освоения в рамках данных семинарских занятий можно рекомендовать проект **SASM**, являющийся кросс-платформенной средой программирования на языке ассемблера. \n",
    "\n",
    "Сайт проекта: https://dman95.github.io/SASM/\n",
    "\n",
    "На сайте можно скачать реализации для нужной операционной системы.\n",
    "В операционной системе Linux для проверки наличия ассемблера **NASM** достаточно в терминале ввести команду:\n",
    "```bash\n",
    "nasm -v\n",
    "```\n",
    "Если все в порядке, то будет выдано сообщение об установленной в системе версии:\n",
    "```bash\n",
    "NASM version 2.13.02\n",
    "```"
   ]
  },
  {
   "cell_type": "code",
   "execution_count": 1,
   "metadata": {
    "ExecuteTime": {
     "end_time": "2021-02-11T11:50:39.331278Z",
     "start_time": "2021-02-11T11:50:39.110962Z"
    }
   },
   "outputs": [
    {
     "name": "stdout",
     "output_type": "stream",
     "text": [
      "NASM version 2.11.08\r\n"
     ]
    }
   ],
   "source": [
    "!nasm -v"
   ]
  },
  {
   "cell_type": "markdown",
   "metadata": {},
   "source": [
    "# Организация ассемблерного файла\n",
    "\n",
    "Программы на языке ассемблера представляют собой текстовые файлы с расширением **.asm**. Файл состоит из нескольких секций, в которых размещается код программы (последовательность ассемблерных инструкций) и её данные.\n",
    "\n",
    "В простых программах набор секций, как правило, ограничен тремя (не считая служебных):\n",
    "- секция кода, которая обычно называется **.text**\n",
    "- секция инициализированных данных, которая обычно называется **.data**\n",
    "- секция неинициализированных данных, значения которых обнуляются операционной системой перед запуском программы, которая обычно называется **.bss**\n",
    "\n",
    "Каждая строка кода представляет собой последовательность полей: \n",
    "- метка — присваивает имя данному месту в программе, вне зависимости от того, что на этом месте расположено (код/данные); \n",
    "- ассемблерная инструкция, состоит из кода операции и операндов (если они есть), перечисляемых через запятую; \n",
    "- директива определения данных; \n",
    "- комментарий. \n",
    "\n",
    "Для улучшения читаемости кода допустимо использовать пустые строки. Кроме того, на отдельных строках могут быть записаны служебные директивы,  указывающие  ассемблеру,  каким  образом  следует размещать код и данные в памяти.\n",
    "\n",
    "### Ассемблерная инструкция\n",
    "\n",
    "Строка с описанием ассемблерной инструкции имеет следующий вид: \n",
    "\n",
    "<div><img src=\"Images/Asm_Instr.png\" width=\"70%\"/></div>\n",
    "\n",
    "Метка может находиться на отдельной строке, оканчивающейся на «двоеточие». Инструкция отделяется от операндов одним или несколькими пробелами или символами табуляции, а операнды, если они есть, должны быть отделены друг от друга запятыми и, возможно, пробельными символами  и символами  табуляции.  В  конце  строки  может  находиться  комментарий, начинающийся с символа «точка с запятой» и продолжающийся до конца строки. \n",
    "\n",
    "### Директивы определения данных\n",
    "\n",
    "Строка с описанием данных имеет следующий вид: \n",
    "\n",
    "<div><img src=\"Images/Asm_Data_Directive.png\" width=\"70%\"/></div>\n",
    "\n",
    "При описании данных, после имени переменной может присутствовать «двоеточие». Для определения переменных с начальными значениями используются директивы **DB**, **DW**,**DD** и **DQ**:\n",
    "\n",
    "<div><img src=\"Images/Asm_Data_Directive_Ex_1.png\" width=\"70%\"/></div>\n",
    "\n",
    "Директивы предназначены для указания размера данных\n",
    "\n",
    "- **DB** - указывает на размер данных в один байт;\n",
    "- **DW** - указывает на размер данных в одно слово или 2 байта;\n",
    "- **DD** - указывает на размер данных в двойное слово или 4 байта;\n",
    "- **DQ** - указывает на размер данных в четырехкратное слово или 8 байтов.\n",
    "\n",
    "#### Пример № 1\n",
    "\n",
    "Задать переменную х размером в одно слово с начальным значением 1\n",
    "\n",
    "```\n",
    "x dw 1\n",
    "```\n",
    "или\n",
    "```\n",
    "x: dw 1\n",
    "```\n",
    "\n",
    "В общем случае, через запятую перечисляется набор значений, который будет размещен в памяти, начиная с адреса, помеченного как имя_переменной. \n",
    "\n",
    "#### Пример № 2\n",
    "\n",
    "```\n",
    "у dd 1, 2, 3\n",
    "```\n",
    "или\n",
    "```\n",
    "у: dd 1, 2, 3\n",
    "```\n",
    "\n",
    "Т.е. первое двойное слово располагается в памяти по адресу y, второе – по адресу y + 4, третье – по адресу y + 8.\n",
    "\n",
    "**NASM** не позволяет указывать неопределенное начальное значение (в **MASM** для этого служил знак ?). Если начальное значение переменной не важно, ее следует располагать в секции **.bss**, все байты которой инициализируются нулем. \n",
    "\n",
    "При объявлении  переменных  в  секции **.bss** необходимо использовать соответствующие директивы:\n",
    "- **RESB** \n",
    "- **RESW**\n",
    "- **RESD**\n",
    "- **RESQ**\n",
    "\n",
    "<div><img src=\"Images/Asm_bss_Data_Directive.png\" width=\"60%\"/></div>\n",
    "\n",
    "Под количеством ячеек понимается число байт, слов, двойных или четверных слов, в зависимости от использованной директивы. \n",
    "\n",
    "### Средства ввода/вывода\n",
    "\n",
    "Для считывания  данных,  вводимых  с  клавиатуры,  и  вывода  данных  на  экран (консоль)  предлагается  набор  команд,  определенных  в  файле **io.inc** (находится в архиве http://asmcourse.cs.msu.ru/wp-content/uploads/2013/03/asm_1_1.zip   ).  \n",
    "\n",
    "Они позволяют  считывать  и  печатать  числа  в  шестнадцатеричном  и  десятичном формате,  строки  и  отдельные  символы.  Фактически,  приведенные  команды являются  макросами,  содержащими  обращения  к  функциям  стандартной библиотеки ввода/вывода языка Си. Сводную таблицу макросов ввода/вывода можно просмотреть в первой части пособия. Рассмотрим некоторые из них\n",
    "\n",
    "**PRINT_DEC и PRINT_UDEC** - печатает десятичное число или десятичное число без знака\n",
    "```\n",
    "PRINT_DEC size, data\n",
    "или\n",
    "PRINT_UDEC size, data\n",
    "```\n",
    "**PRINT_HEX** - печатает шестнадцатиричное число\n",
    "```\n",
    "PRINT_HEX size, data\n",
    "```\n",
    "**PRINT_CHAR** - печатает символ\n",
    "```\n",
    "PRINT_CHAR ch\n",
    "```\n",
    "**PRINT_STRING** - печатает строку\n",
    "```\n",
    "PRINT_STRING data\n",
    "```\n",
    "\n",
    "### Структура ассеблерной программы\n",
    "\n",
    "Типичная программа на языке ассемблера состоит из секций.\n",
    "\n",
    "Секция **.bss** используется для объявления переменных, начальное значение которых  инициализируется нулями. Синтаксис объявления:\n",
    "```\n",
    "section .bss\n",
    "```\n",
    "Секция **.data** используется для объявления инициализированных данных или констант. Данные в этой секции НЕ могут быть изменены во время выполнения программы. Синтаксис объявления:\n",
    "```\n",
    "section .data\n",
    "```\n",
    "Секция **.text** используется для хранения кода программы. Синтаксис объявления:\n",
    "```\n",
    "section .text\n",
    "```\n",
    "\n",
    "### Пример ассеблерной программы\n",
    "```\n",
    "%include \"io.inc\"\n",
    "\n",
    "section .text\n",
    "global CMAIN\n",
    "CMAIN:\n",
    "    mov eax, 0\n",
    "    ret\n",
    "```\n",
    "\n",
    "\n"
   ]
  },
  {
   "cell_type": "code",
   "execution_count": 3,
   "metadata": {
    "ExecuteTime": {
     "end_time": "2021-02-11T08:00:28.280607Z",
     "start_time": "2021-02-11T08:00:28.271005Z"
    }
   },
   "outputs": [
    {
     "name": "stdout",
     "output_type": "stream",
     "text": [
      "Overwriting EXAMPLES/1_2/Ex_1.asm\n"
     ]
    }
   ],
   "source": [
    "%%writefile \"EXAMPLES/1_2/Ex_1.asm\"\n",
    "%include \"io.inc\"\n",
    "\n",
    "section .text\n",
    "global CMAIN\n",
    "CMAIN:\n",
    "    mov eax, 0\n",
    "    ret\n"
   ]
  },
  {
   "cell_type": "markdown",
   "metadata": {
    "ExecuteTime": {
     "end_time": "2021-02-10T21:25:32.461550Z",
     "start_time": "2021-02-10T21:25:32.194449Z"
    }
   },
   "source": [
    "### Строки и вывод строк на печать\n",
    "\n",
    "В ассемблере для создания строк служат ограничитиели в виде:\n",
    "\n",
    "одинарных кавычек ' . . . '\n",
    "\n",
    "двойных кавычек \" . . . \"\n",
    "\n",
    "обратных кавычек \\` . . . \\`\n",
    "\n",
    "Использование обратных кавычек позволяет вставлять в строку служебные символы в виде экранированных последовательностей. Некоторые экранированные последовательности:\n",
    "\n",
    "\\n - перевод строки\n",
    "\n",
    "\\f - перевод страницы\n",
    "\n",
    "\\r - возврат каретки\n",
    "\n",
    "\\t - горизонтальная табуляция\n",
    "\n",
    "\\v - вертикальная табуляция\n",
    "\n",
    "\\a - звуковой сигнал\n",
    "\n",
    "\\b - забой символа\n",
    "\n",
    "#### Пример программы\n",
    "\n",
    "```\n",
    "%include \"io.inc\"\n",
    "\n",
    "section .data  \n",
    "str: db `Hello, World!\\n`, 0\n",
    "\n",
    "\n",
    "section .text\n",
    "global CMAIN\n",
    "CMAIN:\n",
    "    PRINT_STRING [str]  \n",
    "    mov eax, 0\n",
    "    ret\n",
    "\n",
    "```"
   ]
  },
  {
   "cell_type": "code",
   "execution_count": 2,
   "metadata": {
    "ExecuteTime": {
     "end_time": "2021-02-11T08:00:16.046027Z",
     "start_time": "2021-02-11T08:00:16.033368Z"
    }
   },
   "outputs": [
    {
     "name": "stdout",
     "output_type": "stream",
     "text": [
      "Overwriting EXAMPLES/1_2/Ex_2.asm\n"
     ]
    }
   ],
   "source": [
    "%%writefile \"EXAMPLES/1_2/Ex_2.asm\"\n",
    "%include \"io.inc\"\n",
    "\n",
    "section .data  \n",
    "str: db `Hello, World!\\n`, 0\n",
    "\n",
    "\n",
    "section .text\n",
    "global CMAIN\n",
    "CMAIN:\n",
    "    PRINT_STRING [str]  \n",
    "    mov eax, 0\n",
    "    ret\n"
   ]
  },
  {
   "cell_type": "code",
   "execution_count": null,
   "metadata": {},
   "outputs": [],
   "source": []
  },
  {
   "cell_type": "code",
   "execution_count": null,
   "metadata": {},
   "outputs": [],
   "source": []
  },
  {
   "cell_type": "markdown",
   "metadata": {},
   "source": [
    "# Параметры коммандной строки в языке С"
   ]
  },
  {
   "cell_type": "code",
   "execution_count": null,
   "metadata": {},
   "outputs": [],
   "source": []
  },
  {
   "cell_type": "code",
   "execution_count": 1,
   "metadata": {
    "ExecuteTime": {
     "end_time": "2022-02-10T12:42:57.511725Z",
     "start_time": "2022-02-10T12:42:57.482663Z"
    }
   },
   "outputs": [
    {
     "name": "stdout",
     "output_type": "stream",
     "text": [
      "Overwriting EXAMPLES/CLI_args.c\n"
     ]
    }
   ],
   "source": [
    "%%writefile EXAMPLES/CLI_args.c\n",
    "#include <stdio.h>\n",
    "\n",
    "int main (int argc, char **argv) {\n",
    "         int i;\n",
    "         for( i = 0 ; i < argc; i++) {\n",
    "                 printf(\"Argument %d: %s\\n\", i, argv[i]);\n",
    "         }\n",
    "         if(argc == 1) {\n",
    "                 printf(\"Command line has no additional arguments\\n\");\n",
    "         }\n",
    "         return 0;\n",
    " }\n"
   ]
  },
  {
   "cell_type": "code",
   "execution_count": 2,
   "metadata": {
    "ExecuteTime": {
     "end_time": "2022-02-10T12:43:01.293548Z",
     "start_time": "2022-02-10T12:43:00.699948Z"
    }
   },
   "outputs": [],
   "source": [
    "!gcc -o EXAMPLES/CLI_args.exe EXAMPLES/CLI_args.c"
   ]
  },
  {
   "cell_type": "code",
   "execution_count": 3,
   "metadata": {
    "ExecuteTime": {
     "end_time": "2022-02-10T12:44:16.202933Z",
     "start_time": "2022-02-10T12:44:16.083664Z"
    }
   },
   "outputs": [
    {
     "name": "stdout",
     "output_type": "stream",
     "text": [
      "Argument 0: EXAMPLES/CLI_args.exe\r\n",
      "Command line has no additional arguments\r\n"
     ]
    }
   ],
   "source": [
    "!EXAMPLES/CLI_args.exe"
   ]
  },
  {
   "cell_type": "code",
   "execution_count": 4,
   "metadata": {
    "ExecuteTime": {
     "end_time": "2022-02-10T12:45:25.860836Z",
     "start_time": "2022-02-10T12:45:25.719729Z"
    }
   },
   "outputs": [
    {
     "name": "stdout",
     "output_type": "stream",
     "text": [
      "Argument 0: EXAMPLES/CLI_args.exe\r\n",
      "Argument 1: arg_1\r\n",
      "Argument 2: arg_2\r\n",
      "Argument 3: arg_3\r\n"
     ]
    }
   ],
   "source": [
    "!EXAMPLES/CLI_args.exe arg_1 arg_2 arg_3"
   ]
  },
  {
   "cell_type": "code",
   "execution_count": 5,
   "metadata": {
    "ExecuteTime": {
     "end_time": "2022-02-10T12:49:35.758515Z",
     "start_time": "2022-02-10T12:49:35.740628Z"
    }
   },
   "outputs": [
    {
     "name": "stdout",
     "output_type": "stream",
     "text": [
      "Overwriting EXAMPLES/CLI_args_2.c\n"
     ]
    }
   ],
   "source": [
    "%%writefile EXAMPLES/CLI_args_2.c\n",
    "#include <stdio.h>\n",
    "#include <string.h>\n",
    "int main(int argc, char **argv) {\n",
    "     if(argc <= 1) {\n",
    "         printf(\"Использование : \\n\\t%s --help or\\n\\t%s --add [a] [b]\\n\", argv[0],argv[0]);\n",
    "         return 0;\n",
    "     }\n",
    "     if(!strcmp(argv[1], \"--help\")) {\n",
    "         printf(\"Здесь могла бы быть справочная информация.\\n\");\n",
    "     } else if(!strcmp(argv[1], \"--add\")) {\n",
    "         if(argc <= 3 || argc>4) {\n",
    "             printf(\"'--add' параметру необходимо два аргумента\\n\");\n",
    "         } else {\n",
    "             int a, b;\n",
    "             if(sscanf(argv[2], \"%d\", &a) != 1 || sscanf(argv[3], \"%d\", &b) != 1) {\n",
    "                 printf(\"'--add' параметр требует целочисленныхаргументов\\n\");\n",
    "             } else {\n",
    "                 printf(\"%d + %d = %d\\n\", a, b, a+b);\n",
    "             }\n",
    "         }\n",
    "     } else {\n",
    "         printf(\"Неизвестный Параметр: '%s'. Введите %s --help для получения справки.\\n\", argv[1], argv[0]);\n",
    "     }\n",
    "     return 0;\n",
    " }\n"
   ]
  },
  {
   "cell_type": "code",
   "execution_count": 6,
   "metadata": {
    "ExecuteTime": {
     "end_time": "2022-02-10T12:50:56.518632Z",
     "start_time": "2022-02-10T12:50:56.132757Z"
    }
   },
   "outputs": [],
   "source": [
    "!gcc -o EXAMPLES/CLI_args_2.exe EXAMPLES/CLI_args_2.c"
   ]
  },
  {
   "cell_type": "code",
   "execution_count": 7,
   "metadata": {
    "ExecuteTime": {
     "end_time": "2022-02-10T12:51:07.617114Z",
     "start_time": "2022-02-10T12:51:07.482251Z"
    }
   },
   "outputs": [
    {
     "name": "stdout",
     "output_type": "stream",
     "text": [
      "Использование : \r\n",
      "\tEXAMPLES/CLI_args_2.exe --help or\r\n",
      "\tEXAMPLES/CLI_args_2.exe --add [a] [b]\r\n"
     ]
    }
   ],
   "source": [
    "!EXAMPLES/CLI_args_2.exe "
   ]
  },
  {
   "cell_type": "code",
   "execution_count": 8,
   "metadata": {
    "ExecuteTime": {
     "end_time": "2022-02-10T12:51:53.158691Z",
     "start_time": "2022-02-10T12:51:53.033623Z"
    }
   },
   "outputs": [
    {
     "name": "stdout",
     "output_type": "stream",
     "text": [
      "Здесь могла бы быть справочная информация.\r\n"
     ]
    }
   ],
   "source": [
    "!EXAMPLES/CLI_args_2.exe --help"
   ]
  },
  {
   "cell_type": "code",
   "execution_count": 9,
   "metadata": {
    "ExecuteTime": {
     "end_time": "2022-02-10T12:52:06.359554Z",
     "start_time": "2022-02-10T12:52:06.218183Z"
    }
   },
   "outputs": [
    {
     "name": "stdout",
     "output_type": "stream",
     "text": [
      "'--add' параметру необходимо два аргумента\r\n"
     ]
    }
   ],
   "source": [
    "!EXAMPLES/CLI_args_2.exe --add 1"
   ]
  },
  {
   "cell_type": "code",
   "execution_count": 10,
   "metadata": {
    "ExecuteTime": {
     "end_time": "2022-02-10T12:52:15.274336Z",
     "start_time": "2022-02-10T12:52:15.149432Z"
    }
   },
   "outputs": [
    {
     "name": "stdout",
     "output_type": "stream",
     "text": [
      "2 + 3 = 5\r\n"
     ]
    }
   ],
   "source": [
    "!EXAMPLES/CLI_args_2.exe --add 2 3"
   ]
  },
  {
   "cell_type": "code",
   "execution_count": 11,
   "metadata": {
    "ExecuteTime": {
     "end_time": "2022-02-10T12:52:22.635461Z",
     "start_time": "2022-02-10T12:52:22.492409Z"
    }
   },
   "outputs": [
    {
     "name": "stdout",
     "output_type": "stream",
     "text": [
      "'--add' параметру необходимо два аргумента\r\n"
     ]
    }
   ],
   "source": [
    "!EXAMPLES/CLI_args_2.exe --add 2 3 4"
   ]
  },
  {
   "cell_type": "code",
   "execution_count": 12,
   "metadata": {
    "ExecuteTime": {
     "end_time": "2022-02-10T12:52:37.447371Z",
     "start_time": "2022-02-10T12:52:37.312161Z"
    }
   },
   "outputs": [
    {
     "name": "stdout",
     "output_type": "stream",
     "text": [
      "Неизвестный Параметр: '--sub'. Введите EXAMPLES/CLI_args_2.exe --help для получения справки.\r\n"
     ]
    }
   ],
   "source": [
    "!EXAMPLES/CLI_args_2.exe --sub"
   ]
  },
  {
   "cell_type": "code",
   "execution_count": 24,
   "metadata": {
    "ExecuteTime": {
     "end_time": "2021-03-03T21:22:32.536878Z",
     "start_time": "2021-03-03T21:22:32.412446Z"
    }
   },
   "outputs": [
    {
     "name": "stdout",
     "output_type": "stream",
     "text": [
      "You requested help message.\r\n"
     ]
    }
   ],
   "source": [
    "!EXAMPLES/CLI_args_2.exe --help"
   ]
  },
  {
   "cell_type": "code",
   "execution_count": null,
   "metadata": {},
   "outputs": [],
   "source": []
  },
  {
   "cell_type": "code",
   "execution_count": 1,
   "metadata": {
    "ExecuteTime": {
     "end_time": "2021-03-09T11:54:58.658562Z",
     "start_time": "2021-03-09T11:54:58.556111Z"
    }
   },
   "outputs": [
    {
     "name": "stdout",
     "output_type": "stream",
     "text": [
      "Overwriting EXAMPLES/CLI_args_3.c\n"
     ]
    }
   ],
   "source": [
    "%%writefile EXAMPLES/CLI_args_3.c\n",
    "#include <stdio.h>\n",
    "#include <stdlib.h>\n",
    "#include <string.h>\n",
    "#include <malloc.h>\n",
    "#include <time.h>\n",
    "\n",
    "int main(int argc, char **argv) {\n",
    "     int *a, *b; float *c;  // указатели на массив\n",
    "     int n, op, min, max; // параметры\n",
    "     int fl_n = 0, fl_r = 0, fl_op = 0; // флаги задания параметров\n",
    "     \n",
    "     \n",
    "     if(argc <= 1) {\n",
    "         printf(\"Использование : \\n\\t%s --help or\\n\\t%s --n [a] --r [min] [max] --op 0|1|2|3\\n\", argv[0],argv[0]);\n",
    "         return 0;\n",
    "     }\n",
    "\n",
    "     if(!strcmp(argv[1], \"--help\")){\n",
    "         printf(\"Здесь могла бы быть справочная информация.\\n\");\n",
    "         return 0; \n",
    "     }\n",
    "    \n",
    "    for( int i = 1 ; i < argc; i++) {\n",
    "\n",
    "        if(!strcmp(argv[i], \"--n\")){\n",
    "            fl_n = 1;\n",
    "            if(i+1>argc-1 || sscanf(argv[i+1], \"%d\", &n) != 1) {\n",
    "                printf(\"'--n' параметр требует целочисленного аргумента\\n\");\n",
    "                return 0; \n",
    "             }             \n",
    "        }\n",
    "        \n",
    "        if(!strcmp(argv[i], \"--r\")){\n",
    "            fl_r = 1;            \n",
    "            if(i+1>argc-1 || sscanf(argv[i+1], \"%d\", &min) != 1 || i+2>argc-1 || sscanf(argv[i+2], \"%d\", &max) != 1){\n",
    "                printf(\"'--r' параметр требует пару целочисленных аргументов\\n\");\n",
    "                return 0;                 \n",
    "            }            \n",
    "        }\n",
    "        \n",
    "        if(!strcmp(argv[i], \"--op\")){\n",
    "            fl_op = 1;\n",
    "            if(i+1>argc-1 || sscanf(argv[i+1], \"%d\", &op) != 1 ) {\n",
    "                printf(\"'--op' параметр требует аргумента 0|1|2|3\\n\");\n",
    "                return 0; \n",
    "             }      \n",
    "        }\n",
    "       \n",
    "    }\n",
    "    \n",
    "\n",
    "    if(fl_n == 0 & fl_r == 0 & fl_op != 0){\n",
    "        n = 10;\n",
    "        min = 0;\n",
    "        max = 100;\n",
    "        printf(\"По умолчанию: n = %d   min, max = %d, %d \\n\",n,min,max);\n",
    "        printf(\"Задано: ор = %d \\n\", op);\n",
    "    }else if(fl_n == 0 & fl_r != 0 & fl_op == 0){\n",
    "        n = 10;\n",
    "        op = 0;\n",
    "        printf(\"По умолчанию: n = %d   op = %d \\n\",n,op);\n",
    "        printf(\"Задано: min, max = %d, %d \\n\",min,max);        \n",
    "    }else if(fl_n != 0 & fl_r == 0 & fl_op == 0){\n",
    "        op = 0;\n",
    "        min = 0;\n",
    "        max = 100;\n",
    "        printf(\"По умолчанию: op = %d   min, max = %d, %d \\n\",op,min,max);\n",
    "        printf(\"Задано: n = %d \\n\",n);        \n",
    "    }else if(fl_n == 0 & fl_r != 0 & fl_op != 0){\n",
    "        n = 10;\n",
    "        printf(\"По умолчанию: n = %d \\n\",n);\n",
    "        printf(\"Задано: ор = %d    min, max = %d, %d \\n\", op,min,max);\n",
    "    }else if(fl_n != 0 & fl_r != 0 & fl_op == 0){\n",
    "        op = 0;\n",
    "        printf(\"По умолчанию: op = %d \\n\",op);\n",
    "        printf(\"Задано: n = %d  min, max = %d, %d \\n\",n,min,max);        \n",
    "    }else if(fl_n != 0 & fl_r == 0 & fl_op != 0){\n",
    "        min = 0;\n",
    "        max = 100;\n",
    "        printf(\"По умолчанию: min, max = %d, %d \\n\",min,max);\n",
    "        printf(\"Задано: n = %d   op = %d \\n\",n,op);        \n",
    "    }else if(fl_n != 0 & fl_r != 0 & fl_op != 0){\n",
    "        printf(\"Задано: n = %d   op = %d   min, max = %d, %d \\n\",n,op,min,max);        \n",
    "    }\n",
    "    \n",
    "    // Выделение памяти\n",
    "    a = (int*)malloc(n * sizeof(int));\n",
    "    b = (int*)malloc(n * sizeof(int));\n",
    "    c = (float*)calloc(n , sizeof(float));\n",
    "                \n",
    "    srand(time(NULL));\n",
    "    for (int j = 0; j<n; j++){\n",
    "        a[j] = rand()%(max - min + 1) + min;\n",
    "        b[j] = rand()%(max - min + 1) + min;\n",
    "        if(op == 0){\n",
    "            c[j] = a[j] + b[j];\n",
    "        }else if(op == 1){\n",
    "            c[j] = a[j] - b[j];\n",
    "        }else if(op == 2){\n",
    "            c[j] = a[j] * b[j];\n",
    "        }else if(op == 3){\n",
    "            c[j] = (float)a[j] / b[j];\n",
    "        }else{\n",
    "            printf(\"Код операции задан не верно ! \\n\");\n",
    "            return 0;\n",
    "        }\n",
    "\n",
    "        printf(\"a: %d \", a[j]);\n",
    "        printf(\"b: %d \", b[j]);\n",
    "        printf(\"c: %g \\n\", c[j]);\n",
    "    }\n",
    "\n",
    "     free(a);\n",
    "     free(b);    \n",
    "     free(c);    \n",
    "     return 0;\n",
    " }\n"
   ]
  },
  {
   "cell_type": "code",
   "execution_count": 2,
   "metadata": {
    "ExecuteTime": {
     "end_time": "2021-03-09T11:56:05.975169Z",
     "start_time": "2021-03-09T11:56:04.424915Z"
    }
   },
   "outputs": [],
   "source": [
    "!gcc -o EXAMPLES/CLI_args_3.exe EXAMPLES/CLI_args_3.c"
   ]
  },
  {
   "cell_type": "code",
   "execution_count": 3,
   "metadata": {
    "ExecuteTime": {
     "end_time": "2021-03-09T11:56:16.249128Z",
     "start_time": "2021-03-09T11:56:16.130770Z"
    }
   },
   "outputs": [
    {
     "name": "stdout",
     "output_type": "stream",
     "text": [
      "Использование : \r\n",
      "\tEXAMPLES/CLI_args_3.exe --help or\r\n",
      "\tEXAMPLES/CLI_args_3.exe --n [a] --r [min] [max] --op 0|1|2|3\r\n"
     ]
    }
   ],
   "source": [
    "!EXAMPLES/CLI_args_3.exe "
   ]
  },
  {
   "cell_type": "code",
   "execution_count": 4,
   "metadata": {
    "ExecuteTime": {
     "end_time": "2021-03-09T11:56:27.801539Z",
     "start_time": "2021-03-09T11:56:27.679134Z"
    }
   },
   "outputs": [
    {
     "name": "stdout",
     "output_type": "stream",
     "text": [
      "Здесь могла бы быть справочная информация.\r\n"
     ]
    }
   ],
   "source": [
    "!EXAMPLES/CLI_args_3.exe --help"
   ]
  },
  {
   "cell_type": "code",
   "execution_count": 5,
   "metadata": {
    "ExecuteTime": {
     "end_time": "2021-03-09T11:56:47.063752Z",
     "start_time": "2021-03-09T11:56:46.945004Z"
    }
   },
   "outputs": [
    {
     "name": "stdout",
     "output_type": "stream",
     "text": [
      "'--r' параметр требует пару целочисленных аргументов\r\n"
     ]
    }
   ],
   "source": [
    "!EXAMPLES/CLI_args_3.exe --n 4 --r "
   ]
  },
  {
   "cell_type": "code",
   "execution_count": 6,
   "metadata": {
    "ExecuteTime": {
     "end_time": "2021-03-09T11:56:58.762410Z",
     "start_time": "2021-03-09T11:56:58.640212Z"
    }
   },
   "outputs": [
    {
     "name": "stdout",
     "output_type": "stream",
     "text": [
      "'--op' параметр требует аргумента 0|1|2|3\r\n"
     ]
    }
   ],
   "source": [
    "!EXAMPLES/CLI_args_3.exe --n 4 --op '+'"
   ]
  },
  {
   "cell_type": "code",
   "execution_count": 7,
   "metadata": {
    "ExecuteTime": {
     "end_time": "2021-03-09T11:57:21.609087Z",
     "start_time": "2021-03-09T11:57:21.489958Z"
    }
   },
   "outputs": [
    {
     "name": "stdout",
     "output_type": "stream",
     "text": [
      "По умолчанию: op = 0 \r\n",
      "Задано: n = 4  min, max = 1, 45 \r\n",
      "a: 15 b: 1 c: 16 \r\n",
      "a: 21 b: 29 c: 50 \r\n",
      "a: 20 b: 5 c: 25 \r\n",
      "a: 11 b: 37 c: 48 \r\n"
     ]
    }
   ],
   "source": [
    "!EXAMPLES/CLI_args_3.exe --n 4 --r 1 45"
   ]
  },
  {
   "cell_type": "code",
   "execution_count": 298,
   "metadata": {
    "ExecuteTime": {
     "end_time": "2021-03-07T23:42:35.785856Z",
     "start_time": "2021-03-07T23:42:35.666965Z"
    }
   },
   "outputs": [
    {
     "name": "stdout",
     "output_type": "stream",
     "text": [
      "Задано: n = 4   op = 3   min, max = 10, 40 \r\n",
      "a: 25 b: 23 c: 1.08696 \r\n",
      "a: 29 b: 30 c: 0.966667 \r\n",
      "a: 19 b: 38 c: 0.5 \r\n",
      "a: 32 b: 22 c: 1.45455 \r\n"
     ]
    }
   ],
   "source": [
    "!EXAMPLES/CLI_args_3.exe --n 4 --r 10 40 --op 3"
   ]
  },
  {
   "cell_type": "code",
   "execution_count": 299,
   "metadata": {
    "ExecuteTime": {
     "end_time": "2021-03-07T23:42:38.167139Z",
     "start_time": "2021-03-07T23:42:38.049767Z"
    }
   },
   "outputs": [
    {
     "name": "stdout",
     "output_type": "stream",
     "text": [
      "По умолчанию: min, max = 0, 100 \r\n",
      "Задано: n = 4   op = 3 \r\n",
      "a: 36 b: 48 c: 0.75 \r\n",
      "a: 63 b: 28 c: 2.25 \r\n",
      "a: 52 b: 11 c: 4.72727 \r\n",
      "a: 69 b: 47 c: 1.46809 \r\n"
     ]
    }
   ],
   "source": [
    "!EXAMPLES/CLI_args_3.exe --n 4 --op 3"
   ]
  },
  {
   "cell_type": "code",
   "execution_count": 300,
   "metadata": {
    "ExecuteTime": {
     "end_time": "2021-03-07T23:42:39.646067Z",
     "start_time": "2021-03-07T23:42:39.526417Z"
    }
   },
   "outputs": [
    {
     "name": "stdout",
     "output_type": "stream",
     "text": [
      "По умолчанию: n = 10   min, max = 0, 100 \r\n",
      "Задано: ор = 3 \r\n",
      "a: 25 b: 68 c: 0.367647 \r\n",
      "a: 44 b: 41 c: 1.07317 \r\n",
      "a: 57 b: 34 c: 1.67647 \r\n",
      "a: 89 b: 75 c: 1.18667 \r\n",
      "a: 24 b: 53 c: 0.45283 \r\n",
      "a: 27 b: 11 c: 2.45455 \r\n",
      "a: 50 b: 16 c: 3.125 \r\n",
      "a: 54 b: 89 c: 0.606742 \r\n",
      "a: 54 b: 38 c: 1.42105 \r\n",
      "a: 4 b: 24 c: 0.166667 \r\n"
     ]
    }
   ],
   "source": [
    "!EXAMPLES/CLI_args_3.exe  --op 3"
   ]
  },
  {
   "cell_type": "code",
   "execution_count": null,
   "metadata": {},
   "outputs": [],
   "source": []
  },
  {
   "cell_type": "markdown",
   "metadata": {},
   "source": [
    "<p style=\"text-align: center; font-size: 30pt; font-weight: bold; color: rgb(0, 0, 190); padding: 40px; margin-top: -3%; line-height: 100%;\">РЕГИСТРЫ</p>\n"
   ]
  },
  {
   "cell_type": "markdown",
   "metadata": {},
   "source": [
    "**Регистры** – специализированные ячейки памяти, находящиеся физически внутри процессора. В отличие от **Оперативной Памяти**, для обращения к данным которой требуется использовать шину, к регистрам процессор может обращаться напрямую, что существенно ускорят работу с данными.\n",
    "\n",
    "Начиная с модели **80386** процессоры Intel предоставляют 16 основных регистров для пользовательских программ и ещё 11 регистров для работы с мультимедийными приложениями и числами с плавающей точкой. \n",
    "\n",
    "В таблице представлены основные регистры процессоров **Intel**. Состав  и обознасения регистров других процессоров могут отличаться. \n",
    "\n",
    "<table cellpadding=\"5px\">\n",
    "<tr bgcolor=\"silver\">\n",
    "  <td><b>Название</b></td>\n",
    "  <td><b>Разрядность</b></td>\n",
    "  <td><b>Основное назначение</b></td>\n",
    "</tr>\n",
    "<tr>\n",
    "  <td><center>EAX</center></td>\n",
    "  <td><center>32</center></td>\n",
    "  <td>Общее</td>\n",
    "</tr>\n",
    "<tr>\n",
    "  <td><center>EBX</center></td>\n",
    "  <td><center>32</center></td>\n",
    "  <td>Общее</td>\n",
    "</tr>\n",
    "<tr>\n",
    "  <td><center>ECX</center></td>\n",
    "  <td><center>32</center></td>\n",
    "  <td>Общее</td>\n",
    "</tr>\n",
    "<tr>\n",
    "  <td><center>EDX</center></td>\n",
    "  <td><center>32</center></td>\n",
    "  <td>Общее</td>\n",
    "</tr>\n",
    "<tr>\n",
    "  <td><center>EBP</center></td>\n",
    "  <td><center>32</center></td>\n",
    "  <td>Указатель базы</td>\n",
    "</tr>\n",
    "<tr>\n",
    "  <td><center>ESP</center></td>\n",
    "  <td><center>32</center></td>\n",
    "  <td>Указатель стека</td>\n",
    "</tr>\n",
    "<tr>\n",
    "  <td><center>EIP</center></td>\n",
    "  <td><center>32</center></td>\n",
    "  <td>Указатель инструкции (команды)</td>\n",
    "</tr>    \n",
    "<tr>\n",
    "  <td><center>ESI</center></td>\n",
    "  <td><center>32</center></td>\n",
    "  <td>Индекс источника</td>\n",
    "</tr>\n",
    "<tr>\n",
    "  <td><center>EDI</center></td>\n",
    "  <td><center>32</center></td>\n",
    "  <td>Индекс приёмника</td>\n",
    "</tr>\n",
    "<tr>\n",
    "  <td><center>EFLAGS</center></td>\n",
    "  <td><center>32</center></td>\n",
    "  <td>Регистр флагов</td>\n",
    "</tr>\n",
    "<tr>\n",
    "  <td><center>CS</center></td>\n",
    "  <td><center>16</center></td>\n",
    "  <td>Сегментный регистр</td>\n",
    "</tr>\n",
    "<tr>\n",
    "  <td><center>DS</center></td>\n",
    "  <td><center>16</center></td>\n",
    "  <td>Сегментный регистр</td>\n",
    "</tr>\n",
    "<tr>\n",
    "  <td><center>ES</center></td>\n",
    "  <td><center>16</center></td>\n",
    "  <td>Сегментный регистр</td>\n",
    "</tr>\n",
    "<tr>\n",
    "  <td><center>FS</center></td>\n",
    "  <td><center>16</center></td>\n",
    "  <td>Сегментный регистр</td>\n",
    "</tr>\n",
    "<tr>\n",
    "  <td><center>GS</center></td>\n",
    "  <td><center>16</center></td>\n",
    "  <td>Сегментный регистр</td>\n",
    "</tr>\n",
    "<tr>\n",
    "  <td><center>SS</center></td>\n",
    "  <td><center>16</center></td>\n",
    "  <td>Сегментный регистр</td>\n",
    "</tr>\n",
    "</table>\n",
    "\n",
    "Регистры **EAX, EBX, ECX, EDX** – это регистры общего назначения или рабочие регистры, т.е. могут быть использованы при написании программ для хранения любой информации. Эти регистры имеют структуру подрегистров\n",
    "\n",
    "<div><img src=\"Images/REGISTERS_IA-32.png\" width=\"60%\"/></div>\n",
    "\n",
    "Регистр **EBP** - используется для адресации параметров и локальных переменных в стеке. \n",
    "\n",
    "Регистр **ESP** - используется для хранения относительного адреса вершины стека. \n",
    "\n",
    "\n",
    "Регистр **EIP** - содержит относительный адрес (смешение) следующей команды, подлежащей исполнению на ЦП. \n",
    "\n",
    "\n",
    "Регистры **ESI, EDI**- индексные и используется при циклической обработке элементов массива. \n",
    "\n",
    "\n",
    "Регистры **CS, DS, ES, SS** - сегментные и используется для адресации Оперативной Памяти. \n",
    "\n",
    "\n",
    "# Регистр EFLAGS\n",
    "\n",
    "Данный регистр отражает текущее состояние ЦП и фактически является ***дескриптором*** ЦП, т.е. структурой данных используемой для управления его действиями. Регистр флагов содержит 32 бита.\n",
    "\n",
    "\n",
    "<div><img src=\"Images/EFLAGS.png\" width=\"120%\"/></div>\n",
    "\n",
    "- **0-й** бит, флаг переноса **CF**. Устанавливается **1** если был перенос из старшего бита при операции сложения и заем из несуществующего бита при операции вычитания.\n",
    "- **1-й** бит, **1**\n",
    "- **2-й** бит, флаг четности **РF**. Устанавливается **1** если младший байт результата содержит четное число единиц.\n",
    "- **3-й** бит, **0**\n",
    "- **4-й** бит, флаг вспомогательного переноса **АF**. Устанавливается **1** если произошел перенос из третьего бита в четвертый или заем из четвертого.\n",
    "- **5-й** бит, **0**\n",
    "- **6-й** бит, флаг нуля **ZF**. Устанавливается **1** если результат последней операции равен нулю.\n",
    "- **7-й** бит, флаг знака **SF**. Равен старшему биту результата последней операции.\n",
    "- **8-й** бит, флаг ловушки **ТF**. Если этот флаг установлен в **1**, то после выполнения каждой команды вызывается INT 3. Используется отладчиками.\n",
    "- **9-й** бит, флаг прерываний **IF**. Сброс этого флага в **0** приводит к тому, что ЦП перестает воспринимать прерывания от внешних устройств\n",
    "- **10-й** бит, флаг направления **DF**. Учитывается в строковых операциях. Если равен **1**, то в строковых операциях адрес автоматически уменьшается.\n",
    "- **11-й** бит, флаг переполнения **ОF**. Устанавливается **1** если результат операции со знаковым числом вышел за допустимые пределы.\n",
    "- **12-й, 13-й** бит, привилегии ввода-вывода **IОPL**. Определяет какой привелегией должен обладать код, чтобы выполнять команды ввода-вывода и другие привелегированные команды.\n",
    "- **14-й** бит, флаг влеженной задачи **NT**. \n",
    "- **15-й** бит, **0**\n",
    "- **16-й** бит, флаг возобновления **RF**. Используется совместно с точками останова при отладке.\n",
    "\n",
    "Старшие флаги не доступны в органиченном режиме исполнения.\n",
    "\n"
   ]
  },
  {
   "cell_type": "code",
   "execution_count": null,
   "metadata": {},
   "outputs": [],
   "source": []
  },
  {
   "cell_type": "markdown",
   "metadata": {},
   "source": [
    "<p style=\"text-align: center; font-size: 28pt; font-weight: bold; color: rgb(0, 0, 190); padding: 40px; margin-top: -3%; line-height: 100%;\">Команды пересылки и обмена данными языка Ассемблер</p>\n"
   ]
  },
  {
   "cell_type": "markdown",
   "metadata": {},
   "source": [
    "# Типы операндов.\n",
    "\n",
    "Pассмотрим три типа операндов, которые могут встречаться в любой команде: \n",
    "- непосредственно заданное значение (immediate)\n",
    "- регистр (register) \n",
    "- память (memory)\n",
    "\n",
    "Список условных обозначений возможных типов операндов, взятых из руководства фирмы Intel приведен в таблице. \n",
    "\n",
    "<div align=\"center\">\n",
    "<table border=\"1\" cellpadding=\"0\" cellspacing=\"0\" style=\"margin-left:12.5pt;border-collapse:collapse;border:none\">\n",
    "<tbody><tr>\n",
    "<td style=\"width:70.9pt;border:solid black 1.0pt;padding:0cm 5.4pt 0cm 5.4pt\" valign=\"top\" width=\"95\">\n",
    "<p align=\"center\" style=\"margin-bottom:6pt;text-align:center\"><b><span lang=\"RU\" style=\"font-family:Times New Roman\"><font size=\"4\">Операнд</font></span></b></p>\n",
    "</td>\n",
    "<td style=\"width:395.15pt;border:solid black 1.0pt;border-left:none;padding:0cm 5.4pt 0cm 5.4pt\" valign=\"top\" width=\"527\">\n",
    "<p align=\"center\" style=\"margin-bottom:6pt;text-align:center\"><b><span lang=\"RU\" style=\"font-family:Times New Roman\"><font size=\"4\">Описание</font></span></b></p>\n",
    "</td>\n",
    "</tr>\n",
    "<tr>\n",
    "<td style=\"width:70.9pt;border:solid black 1.0pt;border-top:none;padding:0cm 5.4pt 0cm 5.4pt\" valign=\"top\" width=\"95\">\n",
    "<p align=\"center\" style=\"margin-bottom:6pt;text-align:center\"><i><span lang=\"RU\" style=\"font-family:Times New Roman\"><font size=\"4\">r8</font></span></i></p>\n",
    "</td>\n",
    "<td style=\"width:395.15pt;border-top:none;border-left:none;border-bottom:solid black 1.0pt;border-right:solid black 1.0pt;padding:0cm 5.4pt 0cm 5.4pt\" valign=\"top\" width=\"527\">\n",
    "<p style=\"margin-bottom:6pt;text-align:justify\"><span lang=\"RU\" style=\"font-family:Times New Roman\"><font size=\"4\">Один из\n",
    "  8-разрядных регистров общего назначения: АН, AL, BH, BL, CH, CL, DH, DL</font></span></p>\n",
    "</td>\n",
    "</tr>\n",
    "<tr>\n",
    "<td style=\"width:70.9pt;border:solid black 1.0pt;border-top:none;padding:0cm 5.4pt 0cm 5.4pt\" valign=\"top\" width=\"95\">\n",
    "<p align=\"center\" style=\"margin-bottom:6pt;text-align:center\"><i><span lang=\"RU\" style=\"font-family:Times New Roman\"><font size=\"4\">r16</font></span></i></p>\n",
    "</td>\n",
    "<td style=\"width:395.15pt;border-top:none;border-left:none;border-bottom:solid black 1.0pt;border-right:solid black 1.0pt;padding:0cm 5.4pt 0cm 5.4pt\" valign=\"top\" width=\"527\">\n",
    "<p style=\"margin-bottom:6pt;text-align:justify\"><span lang=\"RU\" style=\"font-family:Times New Roman\"><font size=\"4\">Один из\n",
    "  16-разрядных регистров общего назначения: АХ, BX, СХ, DX, SI, DI, SP, BP</font></span></p>\n",
    "</td>\n",
    "</tr>\n",
    "<tr>\n",
    "<td style=\"width:70.9pt;border:solid black 1.0pt;border-top:none;padding:0cm 5.4pt 0cm 5.4pt\" valign=\"top\" width=\"95\">\n",
    "<p align=\"center\" style=\"margin-bottom:6pt;text-align:center\"><i><span lang=\"RU\" style=\"font-family:Times New Roman\"><font size=\"4\">r32</font></span></i></p>\n",
    "</td>\n",
    "<td style=\"width:395.15pt;border-top:none;border-left:none;border-bottom:solid black 1.0pt;border-right:solid black 1.0pt;padding:0cm 5.4pt 0cm 5.4pt\" valign=\"top\" width=\"527\">\n",
    "<p style=\"margin-bottom:6pt;text-align:justify\"><span lang=\"RU\" style=\"font-family:Times New Roman\"><font size=\"4\">Один из\n",
    "  32-разрядных регистров общего назначения: ЕАХ, ЕВХ, ЕСХ, EDX, ESI, EDI, ESP,\n",
    "  EBP</font></span></p>\n",
    "</td>\n",
    "</tr>\n",
    "<tr>\n",
    "<td style=\"width:70.9pt;border:solid black 1.0pt;border-top:none;padding:0cm 5.4pt 0cm 5.4pt\" valign=\"top\" width=\"95\">\n",
    "<p align=\"center\" style=\"margin-bottom:6pt;text-align:center\"><i><span lang=\"RU\" style=\"font-family:Times New Roman\"><font size=\"4\">reg</font></span></i></p>\n",
    "</td>\n",
    "<td style=\"width:395.15pt;border-top:none;border-left:none;border-bottom:solid black 1.0pt;border-right:solid black 1.0pt;padding:0cm 5.4pt 0cm 5.4pt\" valign=\"top\" width=\"527\">\n",
    "<p style=\"margin-bottom:6pt;text-align:justify\"><span lang=\"RU\" style=\"font-family:Times New Roman\"><font size=\"4\">Произвольный\n",
    "  регистр общего назначения</font></span></p>\n",
    "</td>\n",
    "</tr>\n",
    "<tr>\n",
    "<td style=\"width:70.9pt;border:solid black 1.0pt;border-top:none;padding:0cm 5.4pt 0cm 5.4pt\" valign=\"top\" width=\"95\">\n",
    "<p align=\"center\" style=\"margin-bottom:6pt;text-align:center\"><i><span lang=\"RU\" style=\"font-family:Times New Roman\"><font size=\"4\">sreg</font></span></i></p>\n",
    "</td>\n",
    "<td style=\"width:395.15pt;border-top:none;border-left:none;border-bottom:solid black 1.0pt;border-right:solid black 1.0pt;padding:0cm 5.4pt 0cm 5.4pt\" valign=\"top\" width=\"527\">\n",
    "<p style=\"margin-bottom:6pt;text-align:justify\"><span lang=\"RU\" style=\"font-family:Times New Roman\"><font size=\"4\">Один из\n",
    "  16-разрядных сегментных регистров: CS, DS, SS, ES, FS, GS</font></span></p>\n",
    "</td>\n",
    "</tr>\n",
    "<tr>\n",
    "<td style=\"width:70.9pt;border:solid black 1.0pt;border-top:none;padding:0cm 5.4pt 0cm 5.4pt\" valign=\"top\" width=\"95\">\n",
    "<p align=\"center\" style=\"margin-bottom:6pt;text-align:center\"><i><span lang=\"RU\" style=\"font-family:Times New Roman\"><font size=\"4\">imm8</font></span></i></p>\n",
    "</td>\n",
    "<td style=\"width:395.15pt;border-top:none;border-left:none;border-bottom:solid black 1.0pt;border-right:solid black 1.0pt;padding:0cm 5.4pt 0cm 5.4pt\" valign=\"top\" width=\"527\">\n",
    "<p style=\"margin-bottom:6pt;text-align:justify\"><span lang=\"RU\" style=\"font-family:Times New Roman\"><font size=\"4\">Непосредственно\n",
    "  заданное 8-разрядное значение (байт)</font></span></p>\n",
    "</td>\n",
    "</tr>\n",
    "<tr>\n",
    "<td style=\"width:70.9pt;border:solid black 1.0pt;border-top:none;padding:0cm 5.4pt 0cm 5.4pt\" valign=\"top\" width=\"95\">\n",
    "<p align=\"center\" style=\"margin-bottom:6pt;text-align:center\"><i><span lang=\"RU\" style=\"font-family:Times New Roman\"><font size=\"4\">imm16</font></span></i></p>\n",
    "</td>\n",
    "<td style=\"width:395.15pt;border-top:none;border-left:none;border-bottom:solid black 1.0pt;border-right:solid black 1.0pt;padding:0cm 5.4pt 0cm 5.4pt\" valign=\"top\" width=\"527\">\n",
    "<p style=\"margin-bottom:6pt;text-align:justify\"><span lang=\"RU\" style=\"font-family:Times New Roman\"><font size=\"4\">Непосредственно\n",
    "  заданное 16-разрядное значение (слово)</font></span></p>\n",
    "</td>\n",
    "</tr>\n",
    "<tr>\n",
    "<td style=\"width:70.9pt;border:solid black 1.0pt;border-top:none;padding:0cm 5.4pt 0cm 5.4pt\" valign=\"top\" width=\"95\">\n",
    "<p align=\"center\" style=\"margin-bottom:6pt;text-align:center\"><i><span lang=\"RU\" style=\"font-family:Times New Roman\"><font size=\"4\">imm32</font></span></i></p>\n",
    "</td>\n",
    "<td style=\"width:395.15pt;border-top:none;border-left:none;border-bottom:solid black 1.0pt;border-right:solid black 1.0pt;padding:0cm 5.4pt 0cm 5.4pt\" valign=\"top\" width=\"527\">\n",
    "<p style=\"margin-bottom:6pt;text-align:justify\"><span lang=\"RU\" style=\"font-family:Times New Roman\"><font size=\"4\">Непосредственно\n",
    "  заданное 32-разрядное значение (двойное слово)</font></span></p>\n",
    "</td>\n",
    "</tr>\n",
    "<tr>\n",
    "<td style=\"width:70.9pt;border:solid black 1.0pt;border-top:none;padding:0cm 5.4pt 0cm 5.4pt\" valign=\"top\" width=\"95\">\n",
    "<p align=\"center\" style=\"margin-bottom:6pt;text-align:center\"><i><span lang=\"RU\" style=\"font-family:Times New Roman\"><font size=\"4\">imm</font></span></i></p>\n",
    "</td>\n",
    "<td style=\"width:395.15pt;border-top:none;border-left:none;border-bottom:solid black 1.0pt;border-right:solid black 1.0pt;padding:0cm 5.4pt 0cm 5.4pt\" valign=\"top\" width=\"527\">\n",
    "<p style=\"margin-bottom:6pt;text-align:justify\"><span lang=\"RU\" style=\"font-family:Times New Roman\"><font size=\"4\">Непосредственно\n",
    "  заданное 8-, 16- или 32-разрядное значение</font></span></p>\n",
    "</td>\n",
    "</tr>\n",
    "<tr>\n",
    "<td style=\"width:70.9pt;border:solid black 1.0pt;border-top:none;padding:0cm 5.4pt 0cm 5.4pt\" valign=\"top\" width=\"95\">\n",
    "<p align=\"center\" style=\"margin-bottom:6pt;text-align:center\"><i><span lang=\"RU\" style=\"font-family:Times New Roman\"><font size=\"4\">r/m8</font></span></i></p>\n",
    "</td>\n",
    "<td style=\"width:395.15pt;border-top:none;border-left:none;border-bottom:solid black 1.0pt;border-right:solid black 1.0pt;padding:0cm 5.4pt 0cm 5.4pt\" valign=\"top\" width=\"527\">\n",
    "<p style=\"margin-bottom:6pt;text-align:justify\"><span lang=\"RU\" style=\"font-family:Times New Roman\"><font size=\"4\">8-разрядный\n",
    "  операнд, в котором закодирован один из 8-разрядных регистров общего\n",
    "  назначения или адрес байта в памяти</font></span></p>\n",
    "</td>\n",
    "</tr>\n",
    "<tr>\n",
    "<td style=\"width:70.9pt;border:solid black 1.0pt;border-top:none;padding:0cm 5.4pt 0cm 5.4pt\" valign=\"top\" width=\"95\">\n",
    "<p align=\"center\" style=\"margin-bottom:6pt;text-align:center\"><i><span lang=\"RU\" style=\"font-family:Times New Roman\"><font size=\"4\">r/m16</font></span></i></p>\n",
    "</td>\n",
    "<td style=\"width:395.15pt;border-top:none;border-left:none;border-bottom:solid black 1.0pt;border-right:solid black 1.0pt;padding:0cm 5.4pt 0cm 5.4pt\" valign=\"top\" width=\"527\">\n",
    "<p style=\"margin-bottom:6pt;text-align:justify\"><span lang=\"RU\" style=\"font-family:Times New Roman\"><font size=\"4\">16-разрядный\n",
    "  операнд, в котором закодирован один из 16-разрядных регистров общего\n",
    "  назначения или адрес слова в памяти</font></span></p>\n",
    "</td>\n",
    "</tr>\n",
    "<tr>\n",
    "<td style=\"width:70.9pt;border:solid black 1.0pt;border-top:none;padding:0cm 5.4pt 0cm 5.4pt\" valign=\"top\" width=\"95\">\n",
    "<p align=\"center\" style=\"margin-bottom:6pt;text-align:center\"><i><span lang=\"RU\" style=\"font-family:Times New Roman\"><font size=\"4\">r/m32</font></span></i></p>\n",
    "</td>\n",
    "<td style=\"width:395.15pt;border-top:none;border-left:none;border-bottom:solid black 1.0pt;border-right:solid black 1.0pt;padding:0cm 5.4pt 0cm 5.4pt\" valign=\"top\" width=\"527\">\n",
    "<p style=\"margin-bottom:6pt;text-align:justify\"><span lang=\"RU\" style=\"font-family:Times New Roman\"><font size=\"4\">32-разрядный\n",
    "  операнд, в котором закодирован один из 32-разрядных регистров общего\n",
    "  назначения или адрес двойного слова в памяти</font></span></p>\n",
    "</td>\n",
    "</tr>\n",
    "<tr>\n",
    "<td style=\"width:70.9pt;border:solid black 1.0pt;border-top:none;padding:0cm 5.4pt 0cm 5.4pt\" valign=\"top\" width=\"95\">\n",
    "<p align=\"center\" style=\"margin-bottom:6pt;text-align:center\"><i><span lang=\"RU\" style=\"font-family:Times New Roman\"><font size=\"4\">mem</font></span></i></p>\n",
    "</td>\n",
    "<td style=\"width:395.15pt;border-top:none;border-left:none;border-bottom:solid black 1.0pt;border-right:solid black 1.0pt;padding:0cm 5.4pt 0cm 5.4pt\" valign=\"top\" width=\"527\">\n",
    "<p style=\"margin-bottom:6pt;text-align:justify\"><span lang=\"RU\" style=\"font-family:Times New Roman\"><font size=\"4\">Адрес 8-, 16- или\n",
    "  32-разрядного операнда в памяти</font></span></p>\n",
    "</td>\n",
    "</tr>\n",
    "</tbody></table>\n",
    "</div>\n",
    "\n",
    "# Команда пересылки данных MOV.\n",
    "\n",
    "Команда **MOV** копирует данные из ***операнда-источника*** в ***операнд-получатель***. Она относится к группе команд пересылки данных (data transfer) и используется в любой программе. Команда **MOV** является двуместной (т.е. имеет два операнда): \n",
    "\n",
    "- первый операнд определяет получателя данных (destination)\n",
    "- второй — источник данных (source)\n",
    "\n",
    "```asm\n",
    "MOV <получатель>, <источник>\n",
    "```\n",
    "\n",
    "При выполнении этой команды изменяется содержимое ***операнда-получателя***, а содержимое ***операнда-источника*** не меняется. \n",
    "\n",
    "В команде **MOV** могут использоваться разные операнды, но необходимо учитывать следующие правила и ограничения:\n",
    "\n",
    "- оба операнда должны иметь одинаковую длину.\n",
    "- в качестве одного из операндов обязательно должен использоваться регистр (т.е. пересылки типа \"память-память\" в команде MOV не поддерживаются).\n",
    "- в качестве получателя нельзя указывать регистры CS, EIP и IP.\n",
    "- нельзя переслать непосредственно заданное значение в сегментный регистр.\n",
    "\n",
    "С помощью одной команды **MOV** нельзя напрямую переслать операнд из одной области памяти в другую. Поэтому вначале нужно загрузить исходное значение в один из регистров общего назначения, а затем переслать его в нужное место памяти.\n",
    "\n",
    "Варианты использования команды **MOV** с разными операндами (кроме сегментных регистров):\n",
    "```asm\n",
    "MOV reg,reg\n",
    "MOV mem,reg\n",
    "MOV reg,mem\n",
    "MOV mem,imm\n",
    "MOV reg,imm\n",
    "```\n",
    "## Команда MOVZX\n",
    "\n",
    "Команда **MOVZX** (Move With Zero-Extend - Переместить и дополнить нулями) копирует содержимое исходного операнда в больший по размеру регистр получателя данных. При этом оставшиеся неопределенными биты регистра-получателя (как правило, старшие 16 или 24 бита) сбрасываются в ноль. Эта команда используется только при работе с беззнаковыми целыми числами. Существует три варианта команды MOVZX:\n",
    "```asm\n",
    "MOVZX  r16, r/m8\n",
    "MOVZX  r32, r/m8\n",
    "MOVZX  r32, r/m16\n",
    "```\n",
    "\n",
    "#### Пример\n",
    "```asm\n",
    "%include \"io.inc\"\n",
    "\n",
    "section .text\n",
    "global CMAIN\n",
    "CMAIN:\n",
    "    mov bx, 0A69Bh\n",
    "    movzx eax, bx      ; EAX = 0000A69Bh\n",
    "    movzx edx, bl      ; EDX = 0000009Bh\n",
    "    movzx cx, bl       ; CX = 009Bh\n",
    "    ret\n",
    "```\n",
    "\n",
    "## Команда MOVSX\n",
    "\n",
    "Команда **MOVSX** (Move With Sign-Extend, или переместить и дополнить знаком) копирует содержимое исходного операнда в больший по размеру регистр  получателя данных, также как и команда MOVZX. При этом оставшиеся неопределенными биты регистра-получателя (как правило, старшие 16 или 24 бита) заполняются значением знакового бита исходного операнда. Эта команда используется только при работе со знаковыми целыми числами. Существует три  варианта команды MOVSX:\n",
    "```asm\n",
    "MOVSX r16, r/m8\n",
    "MOVSX r32, r/m8\n",
    "MOVSX r32, r/m16\n",
    "```\n",
    "\n",
    "#### Пример\n",
    "```asm\n",
    "%include \"io.inc\"\n",
    "\n",
    "section .text\n",
    "global CMAIN\n",
    "CMAIN:\n",
    "    mov bx, 0A69Bh\n",
    "    movsx eax, bx       ; EAX = FFFFA69Bh\n",
    "    movsx edx, bl       ; EDX = FFFFFF9Bh\n",
    "    movsx cx, bl        ; CX  = FF9Bh\n",
    "    ret\n",
    "```\n",
    "\n",
    "## Команды LAHF и SAHF\n",
    "\n",
    "Команда  **LAHF** (Load Status Flags Into АН - загрузить флаги состояния в регистр **АН**) позволяет загрузить в регистр АН младший байт регистра флагов EFLAGS. При этом в регистр АН копируются следующие флаги состояния:  \n",
    "\n",
    "- SF (флаг знака)\n",
    "- ZF (флаг нуля)\n",
    "- AF (флаг вспомогательного переноса)\n",
    "- PF (флаг четности) \n",
    "- CF (флаг переноса)\n",
    "\n",
    "С помощью этой команды можно легко сохранить содержимое регистра флагов в переменной для дальнейшего анализа. \n",
    "\n",
    "Команда **SAHF** (Store АН Into Status Flags - записать регистр АН во флаги) помещает содержимое регистра АН в младший байт регистра флагов EFLAGS. Например, можно восстановить сохраненное ранее в переменной состояние флагов.\n",
    "\n",
    "## Команда обмена данными XCHG\n",
    "\n",
    "Команда **XCHG** (Exchange Data - Обмен данными) позволяет обменять содержимое двух операндов. Существует три варианта команды XCHG:\n",
    "```asm\n",
    "XCHG reg, reg\n",
    "XCHG reg, mem\n",
    "XCHG mem, reg\n",
    "```\n",
    "\n",
    "Для операндов команды **XCHG** нужно соблюдать те же правила и ограничения,  что и для операндов команды **MOV**, которые были рассмотрены ранее, за исключение того, что операнды команды **XCHG не могут** быть непосредственно заданными значениями.\n",
    "\n",
    "Команда **XCHG** часто используется в программах сортировки элементов массивов, поскольку позволяет очень быстро поменять местами два элемента.  \n",
    "```asm\n",
    "xchg ax, bx       ; Обмен содержимого 16-разрадных регистров\n",
    "xchg ah, bl       ; Обмен содержимого 8-разрадных регистров\n",
    "xchg var1, bx     ; Обмен содержимого 16-разрадного операнда в памяти\n",
    "                  ; и регистра BX\n",
    "xchg eax, ebx     ; Обмен содержимого 32-разрадных регистров\n",
    "```\n",
    "\n",
    "Чтобы поменять содержимое двух переменных, расположенных в памяти, необходимо воспользоваться промежуточным регистром и двумя дополнительными командами MOV:\n",
    "```asm\n",
    "mov eax, var1\n",
    "xchg eax, var2\n",
    "mov var1, eax\n",
    "```\n",
    "\n",
    "\n"
   ]
  },
  {
   "cell_type": "markdown",
   "metadata": {},
   "source": [
    "<p style=\"text-align: center; font-size: 28pt; font-weight: bold; color: rgb(0, 0, 190); padding: 40px; margin-top: -3%; line-height: 100%;\">Арифметические команды языка Ассемблер</p>\n",
    "<p style=\"text-align: center; font-size: 22pt; font-weight: bold; color: rgb(0, 0, 190); padding: 40px; margin-top: -3%; line-height: 100%;\">Аддитивные и мультипликативные команды целочисленных операций</p>\n"
   ]
  },
  {
   "cell_type": "markdown",
   "metadata": {},
   "source": [
    "# Сложение и вычитание.\n",
    "\n",
    "**ADD** – команда для сложения двух чисел. Она работает как с числами со знаком, так и без знака.\n",
    "```asm\n",
    "ADD Приемник, Источник\n",
    "```\n",
    "Логика работы команды:\n",
    "```\n",
    "<Приемник> = <Приемник> + <Источник>\n",
    "```\n",
    "Возможные сочетания операндов для этой команды аналогичны команде MOV.\n",
    "\n",
    "По сути дела, это – команда сложения с присвоением, аналогичная принятой в языке C/C++:\n",
    "```C++\n",
    "Приемник += Источник;\n",
    "```\n",
    "\n",
    "Операнды должны иметь одинаковый размер. Результат помещается на место первого операнда.\n",
    "\n",
    "После выполнения команды изменяются флаги, по которым можно определить характеристики результата:\n",
    "\n",
    "- Флаг **CF** устанавливается, если при сложении произошёл перенос из старшего разряда. Для беззнаковых чисел это будет означать, что произошло переполнение и результат получился некорректным.\n",
    "- Флаг **OF** обозначает переполнение для чисел со знаком.\n",
    "- Флаг **SF** равен знаковому биту результата (для чисел со знаком, а для беззнаковых он равен старшему биту).\n",
    "- Флаг **ZF** устанавливается, если результат равен 0.\n",
    "- Флаг **PF** — признак чётности, равен 1, если младший байт результата содержит чётное число единиц.\n",
    "\n",
    "Примеры:\n",
    "```asm\n",
    "add ax,25     ;AX = AX + 25\n",
    "add dx,cx    ;DX = DX + CX\n",
    "add dx,cl    ;Вызовет ошибку, т.к. разный размер операндов\n",
    "```\n",
    "\n",
    "**SUB** - команда для вычитания одного числа из другого. Она работает как с числами со знаком, так и без знака.\n",
    "```asm\n",
    "SUB Приемник, Источник\n",
    "```\n",
    "\n",
    "Логика работы команды:\n",
    "```\n",
    "<Приемник> = <Приемник> - <Источник>\n",
    "```\n",
    "\n",
    "Возможные сочетания операндов для этой команды аналогичны команде **MOV**.\n",
    "По сути дела, это – команда вычитания с присвоением, аналогичная принятой в языке C/C++:\n",
    "```С++\n",
    "Приемник -= Источник;\n",
    "```\n",
    "\n",
    "Операнды должны иметь одинаковый размер. Результат помещается на место первого операнда.\n",
    "\n",
    "Вычитание в процессоре реализовано с помощью сложения. Процессор меняет знак второго операнда на противоположный, а затем складывает два числа.\n",
    "\n",
    "Примеры:\n",
    "```asm\n",
    "sub ax,3    ;AX = AX - 3\n",
    "sub ax,bx    ;AX = AX + BX\n",
    "sub bx,cl    ;Вызовет ошибку, т.к. разный размер операндов\n",
    "```\n",
    "\n",
    "#  Инкремент и декремент\n",
    "\n",
    "Часто в программах используется операция прибавления или вычитания единицы. Прибавление единицы называется **инкрементом**, а вычитание — **декрементом**. Для этих операций существуют специальные команды процессора: **INC** и **DEC**. Эти команды не изменяют значение флага CF.\n",
    "\n",
    "Эти команды содержит один операнд и имеет следующий синтаксис:\n",
    "```asm\n",
    "INC Операнд\n",
    "DEC Операнд\n",
    "```\n",
    "Логика работы команд:\n",
    "```asm\n",
    "INC: <Операнд> = < Операнд > + 1\n",
    "DEC: <Операнд> = < Операнд > - 1\n",
    "```\n",
    "В качестве инкремента допустимы регистры и память: reg, mem.\n",
    "\n",
    "Примеры:\n",
    "```asm\n",
    "inc ax     ;AX = AX + 1\n",
    "dec ax     ;AX = AX - 1\n",
    "```\n",
    "\n",
    "# Изменение знака\n",
    "\n",
    "**NEG** – команда для изменения знака операнда.\n",
    "\n",
    "Синтаксис:\n",
    "```asm\n",
    "NEG Операнд\n",
    "```\n",
    "Логика работы команды:\n",
    "```asm\n",
    "<Операнд> = – < Операнд >\n",
    "```\n",
    "В качестве декремента допустимы регистры и память: reg, mem.\n",
    "\n",
    "Пример:\n",
    "```asm\n",
    "neg ax       ;AX = -AX\n",
    "```\n",
    "\n",
    "# Сложение и вычитание с переносом\n",
    "\n",
    "Для сложения с учётом переноса предназначена команда **ADC**, а для вычитания — **SBB**. Эти команды работают почти так же, как **ADD** и **SUB**, единственное отличие в том, что к младшему разряду первого операнда прибавляется или вычитается дополнительно значение флага **CF**.\n",
    "\n",
    "Они позволяют выполнять сложение и вычитание многобайтных целых чисел, длина которых больше, чем разрядность регистров процессора. Принцип программирования таких операций очень прост — длинные числа складываются (вычитаются) по частям:\n",
    "- Младшие разряды складываются(вычитаются) с помощью обычных команд **ADD** и **SUB**\n",
    "- затем последовательно складываются (вычитаются) более старшие части с помощью команд **ADC** и **SBB**. \n",
    "\n",
    "<div><img src=\"Images/ADD_CF.png\" width=\"60%\"/></div>\n",
    "\n",
    "При сложении происходит перенос из 7-го разряда в 8-й, на границе между байтами. Если мы будем складывать эти числа по частям командой **ADD**, то перенесённый бит потеряется и в результате возникнет ошибка вычисления. Перенос из старшего разряда всегда сохраняется в флаге **CF**. Чтобы прибавить этот перенесённый бит, достаточно применить команду **ADC**:\n",
    "\n",
    "<div><img src=\"Images/ADC_CF.png\" width=\"35%\"/></div>\n",
    "\n",
    "#### Пример\n",
    "\n",
    "Сложение двух чисел с учетом переноса: \n",
    "\n",
    "FFFFFFAA + FFFF = 10000ffa9\n",
    "\n",
    "```asm\n",
    "%include \"io.inc\"\n",
    "\n",
    "section .text\n",
    "global CMAIN\n",
    "CMAIN:\n",
    "    mov eax, 0FFFFFFAAh\n",
    "    mov ebx, 0FFFFh\n",
    "    mov edx, 0\n",
    "    mov ecx, 0\n",
    "    add eax, ebx\n",
    "    adc edx, ecx\n",
    "    ret\n",
    "```\n",
    "\n",
    "# Умножение и деление\n",
    "\n",
    "## Умножение чисел без знака\n",
    "\n",
    "**MUL** – команда умножения чисел без знака. У этой команды только один операнд — второй множитель, который должен находиться в регистре или в памяти. Местоположение первого множителя и результата задаётся неявно и зависит от размера операнда\n",
    "</font></p>\n",
    "<div align=\"center\">\n",
    "<table style=\"border-collapse:collapse;border:none\" cellspacing=\"0\" cellpadding=\"0\" border=\"1\">\n",
    "<tbody><tr>\n",
    "<td style=\"width:104.65pt;border:solid black 1.0pt;padding:0cm 5.4pt 0cm 5.4pt\" width=\"140\" valign=\"top\">\n",
    "<p style=\"margin-bottom:6.0pt;text-align:center\" align=\"center\"><b><span style=\"font-family:Times New Roman\" lang=\"RU\"><font size=\"4\">Размер операнда</font></span></b></p>\n",
    "</td>\n",
    "<td style=\"width:92.15pt;border:solid black 1.0pt;border-left:none;padding:0cm 5.4pt 0cm 5.4pt\" width=\"123\" valign=\"top\">\n",
    "<p style=\"margin-bottom:6.0pt;text-align:center\" align=\"center\"><b><span style=\"font-family:Times New Roman\" lang=\"RU\"><font size=\"4\">Множитель</font></span></b></p>\n",
    "</td>\n",
    "<td style=\"width:99.2pt;border:solid black 1.0pt;border-left:none;padding:0cm 5.4pt 0cm 5.4pt\" width=\"132\" valign=\"top\">\n",
    "<p style=\"margin-bottom:6.0pt;text-align:center\" align=\"center\"><b><span style=\"font-family:Times New Roman\" lang=\"RU\"><font size=\"4\">Результат</font></span></b></p>\n",
    "</td>\n",
    "</tr>\n",
    "<tr>\n",
    "<td style=\"width:104.65pt;border:solid black 1.0pt;border-top:none;padding:0cm 5.4pt 0cm 5.4pt\" width=\"140\" valign=\"top\">\n",
    "<p style=\"margin-bottom:6.0pt;text-align:justify\"><span style=\"font-family:Times New Roman\" lang=\"RU\"><font size=\"4\">1 байт</font></span></p>\n",
    "</td>\n",
    "<td style=\"width:92.15pt;border-top:none;border-left:none;border-bottom:solid black 1.0pt;border-right:solid black 1.0pt;padding:0cm 5.4pt 0cm 5.4pt\" width=\"123\" valign=\"top\">\n",
    "<p style=\"margin-bottom:6.0pt;text-align:justify\"><span style=\"font-family:Times New Roman\" lang=\"RU\"><font size=\"4\">AL</font></span></p>\n",
    "</td>\n",
    "<td style=\"width:99.2pt;border-top:none;border-left:none;border-bottom:solid black 1.0pt;border-right:solid black 1.0pt;padding:0cm 5.4pt 0cm 5.4pt\" width=\"132\" valign=\"top\">\n",
    "<p style=\"margin-bottom:6.0pt;text-align:justify\"><span style=\"font-family:Times New Roman\" lang=\"RU\"><font size=\"4\">AX</font></span></p>\n",
    "</td>\n",
    "</tr>\n",
    "<tr>\n",
    "<td style=\"width:104.65pt;border:solid black 1.0pt;border-top:none;padding:0cm 5.4pt 0cm 5.4pt\" width=\"140\" valign=\"top\">\n",
    "<p style=\"margin-bottom:6.0pt;text-align:justify\"><span style=\"font-family:Times New Roman\" lang=\"RU\"><font size=\"4\">2 байта</font></span></p>\n",
    "</td>\n",
    "<td style=\"width:92.15pt;border-top:none;border-left:none;border-bottom:solid black 1.0pt;border-right:solid black 1.0pt;padding:0cm 5.4pt 0cm 5.4pt\" width=\"123\" valign=\"top\">\n",
    "<p style=\"margin-bottom:6.0pt;text-align:justify\"><span style=\"font-family:Times New Roman\" lang=\"RU\"><font size=\"4\">AX</font></span></p>\n",
    "</td>\n",
    "<td style=\"width:99.2pt;border-top:none;border-left:none;border-bottom:solid black 1.0pt;border-right:solid black 1.0pt;padding:0cm 5.4pt 0cm 5.4pt\" width=\"132\" valign=\"top\">\n",
    "<p style=\"margin-bottom:6.0pt;text-align:justify\"><span style=\"font-family:Times New Roman\" lang=\"RU\"><font size=\"4\">DX:AX</font></span></p>\n",
    "</td>\n",
    "</tr>\n",
    "<tr>\n",
    "<td style=\"width:104.65pt;border:solid black 1.0pt;border-top:none;padding:0cm 5.4pt 0cm 5.4pt\" width=\"140\" valign=\"top\">\n",
    "<p style=\"margin-bottom:6pt;text-align:justify\"><span style=\"font-family:Times New Roman\" lang=\"RU\"><font size=\"4\">4 байта</font></span></p>\n",
    "</td>\n",
    "<td style=\"width:92.15pt;border-top:none;border-left:none;border-bottom:solid black 1.0pt;border-right:solid black 1.0pt;padding:0cm 5.4pt 0cm 5.4pt\" width=\"123\" valign=\"top\">\n",
    "<p style=\"margin-bottom:6pt;text-align:justify\"><span style=\"font-family:Times New Roman\" lang=\"EN-US\"><font size=\"4\">EAX</font></span></p>\n",
    "</td>\n",
    "<td style=\"width:99.2pt;border-top:none;border-left:none;border-bottom:solid black 1.0pt;border-right:solid black 1.0pt;padding:0cm 5.4pt 0cm 5.4pt\" width=\"132\" valign=\"top\">\n",
    "<p style=\"margin-bottom:6pt;text-align:justify\"><span style=\"font-family:Times New Roman\" lang=\"EN-US\"><font size=\"4\">EDX:EAX</font></span></p>\n",
    "</td>\n",
    "</tr>\n",
    "</tbody></table>\n",
    "</div>\n",
    "\n",
    "Отличие умножения от сложения и вычитания в том, что разрядность результата получается в 2 раза больше, чем разрядность сомножителей.\n",
    "\n",
    "Примеры:\n",
    "```asm\n",
    "%include \"io.inc\"\n",
    "\n",
    "section .text\n",
    "global CMAIN\n",
    "CMAIN:\n",
    "    mov al,5  ; 0x05\n",
    "    mov bl,5  ; 0x5\n",
    "    mul bl    ; AX = AL * BL = 0x0019\n",
    "    mov ax,20 ; 0x0014\n",
    "    mul ax    ; DX:AX = AX * AX = 0x0190\n",
    "    ret\n",
    "```\n",
    "\n",
    "Если старшая часть результата равна нулю, то флаги **CF** и **ОF** будут иметь нулевое значение. \n",
    "\n",
    "## Умножение чисел со знаком\n",
    "\n",
    "**IMUL** – команда умножения чисел со знаком. Эта команда имеет три формы, различающиеся количеством операндов:\n",
    "\n",
    "- с одним операндом — форма, аналогичная команде **MUL**. В качестве операнда указывается множитель. Местоположение другого множителя и результата определяется по таблице.\n",
    "- с двумя операндами — указываются два множителя. Результат записывается на место первого множителя. Старшая часть результата в этом случае игнорируется (эта форма команды не работает с операндами размером 1 байт).\n",
    "- с тремя операндами — указывается положение результата, первого и второго множителя. Второй множитель должен быть непосредственным значением. Результат имеет такой же размер, как первый множитель, старшая часть результата игнорируется, тоже не работает с однобайтными множителями.\n",
    "\n",
    "Примеры:\n",
    "```asm\n",
    "imul cl           ;AX = AL * CL\n",
    "imul bx,ax        ;BX = BX * AX\n",
    "imul cx,-5        ;CX = CX * (-5)\n",
    "imul dx,bx,134h   ;DX = BX * 134h\n",
    "```\n",
    "\n",
    "Флаги **CF = OF = 0**, если произведение помещается в младшей половине результата, иначе **CF = OF = 1**. Для второй и третьей формы команды **CF = OF = 1** означает, что произошло переполнение.\n",
    "\n",
    "## Деление чисел без знака\n",
    "\n",
    "**DIV** – команда деления чисел без знака. У этой команды один операнд — делитель, который должен находиться в регистре или в памяти. Местоположение делимого, частного и остатка задаётся неявно и зависит от размера операнда:\n",
    "<div align=\"center\">\n",
    "<table style=\"border-collapse:collapse;border:none\" cellspacing=\"0\" cellpadding=\"0\" border=\"1\">\n",
    "<tbody><tr>\n",
    "<td style=\"border:solid black 1.0pt;padding:0cm 5.4pt 0cm 5.4pt\" valign=\"top\">\n",
    "<p style=\"margin-bottom:6pt;text-align:center\" align=\"center\"><b><span style=\"font-family:Times New Roman\" lang=\"RU\"><font size=\"4\">Размер\n",
    "  операнда<br>\n",
    "  (делителя)</font></span></b></p>\n",
    "</td>\n",
    "<td style=\"border:solid black 1.0pt;border-left:none;padding:0cm 5.4pt 0cm 5.4pt\" valign=\"top\">\n",
    "<p style=\"margin-bottom:6pt;text-align:center\" align=\"center\"><b><span style=\"font-family:Times New Roman\" lang=\"RU\"><font size=\"4\">Делимое</font></span></b></p>\n",
    "</td>\n",
    "<td style=\"border:solid black 1.0pt;border-left:none;padding:0cm 5.4pt 0cm 5.4pt\" valign=\"top\">\n",
    "<p style=\"margin-bottom:6pt;text-align:center\" align=\"center\"><b><span style=\"font-family:Times New Roman\" lang=\"RU\"><font size=\"4\">Частное</font></span></b></p>\n",
    "</td>\n",
    "<td style=\"border:solid black 1.0pt;border-left:none;padding:0cm 5.4pt 0cm 5.4pt\" valign=\"top\">\n",
    "<p style=\"margin-bottom:6pt;text-align:center\" align=\"center\"><b><span style=\"font-family:Times New Roman\" lang=\"RU\"><font size=\"4\">Остаток</font></span></b></p>\n",
    "</td>\n",
    "</tr>\n",
    "<tr>\n",
    "<td style=\"border:solid black 1.0pt;border-top:none;padding:0cm 5.4pt 0cm 5.4pt\" valign=\"top\">\n",
    "<p style=\"margin-bottom:6.0pt;text-align:justify\"><span style=\"font-family:Times New Roman\" lang=\"RU\"><font size=\"4\">1 байт</font></span></p>\n",
    "</td>\n",
    "<td style=\"border-top:none;border-left:none;border-bottom:solid black 1.0pt;border-right:solid black 1.0pt;padding:0cm 5.4pt 0cm 5.4pt\" valign=\"top\">\n",
    "<p style=\"margin-bottom:6pt;text-align:justify\"><span style=\"font-family:Times New Roman\" lang=\"RU\"><font size=\"4\">AX</font></span></p>\n",
    "</td>\n",
    "<td style=\"border-top:none;border-left:none;border-bottom:solid black 1.0pt;border-right:solid black 1.0pt;padding:0cm 5.4pt 0cm 5.4pt\" valign=\"top\">\n",
    "<p style=\"margin-bottom:6pt;text-align:justify\"><span style=\"font-family:Times New Roman\" lang=\"RU\"><font size=\"4\">AL</font></span></p>\n",
    "</td>\n",
    "<td style=\"border-top:none;border-left:none;border-bottom:solid black 1.0pt;border-right:solid black 1.0pt;padding:0cm 5.4pt 0cm 5.4pt\" valign=\"top\">\n",
    "<p style=\"margin-bottom:6pt;text-align:justify\"><span style=\"font-family:Times New Roman\" lang=\"RU\"><font size=\"4\">AH</font></span></p>\n",
    "</td>\n",
    "</tr>\n",
    "<tr>\n",
    "<td style=\"border:solid black 1.0pt;border-top:none;padding:0cm 5.4pt 0cm 5.4pt\" valign=\"top\">\n",
    "<p style=\"margin-bottom:6.0pt;text-align:justify\"><span style=\"font-family:Times New Roman\" lang=\"RU\"><font size=\"4\">2 байта</font></span></p>\n",
    "</td>\n",
    "<td style=\"border-top:none;border-left:none;border-bottom:solid black 1.0pt;border-right:solid black 1.0pt;padding:0cm 5.4pt 0cm 5.4pt\" valign=\"top\">\n",
    "<p style=\"margin-bottom:6pt;text-align:justify\"><span style=\"font-family:Times New Roman\" lang=\"RU\"><font size=\"4\">DX:AX</font></span></p>\n",
    "</td>\n",
    "<td style=\"border-top:none;border-left:none;border-bottom:solid black 1.0pt;border-right:solid black 1.0pt;padding:0cm 5.4pt 0cm 5.4pt\" valign=\"top\">\n",
    "<p style=\"margin-bottom:6pt;text-align:justify\"><span style=\"font-family:Times New Roman\" lang=\"RU\"><font size=\"4\">AX</font></span></p>\n",
    "</td>\n",
    "<td style=\"border-top:none;border-left:none;border-bottom:solid black 1.0pt;border-right:solid black 1.0pt;padding:0cm 5.4pt 0cm 5.4pt\" valign=\"top\">\n",
    "<p style=\"margin-bottom:6pt;text-align:justify\"><span style=\"font-family:Times New Roman\" lang=\"RU\"><font size=\"4\">DX</font></span></p>\n",
    "</td>\n",
    "</tr>\n",
    "<tr>\n",
    "<td style=\"border:solid black 1.0pt;border-top:none;padding:0cm 5.4pt 0cm 5.4pt\" valign=\"top\">\n",
    "<p style=\"margin-bottom:6pt;text-align:justify\"><span style=\"font-family:Times New Roman\" lang=\"RU\"><font size=\"4\">4 байта</font></span></p>\n",
    "</td>\n",
    "<td style=\"border-top:none;border-left:none;border-bottom:solid black 1.0pt;border-right:solid black 1.0pt;padding:0cm 5.4pt 0cm 5.4pt\" valign=\"top\">\n",
    "<p style=\"margin-bottom:6pt;text-align:justify\"><font size=\"4\"><span style=\"font-family:Times New Roman\" lang=\"EN-US\">E</span><span style=\"font-family:Times New Roman\" lang=\"RU\">DX:</span><span style=\"font-family:Times New Roman\" lang=\"EN-US\">E</span><span style=\"font-family:Times New Roman\" lang=\"RU\">AX</span></font></p>\n",
    "</td>\n",
    "<td style=\"border-top:none;border-left:none;border-bottom:solid black 1.0pt;border-right:solid black 1.0pt;padding:0cm 5.4pt 0cm 5.4pt\" valign=\"top\">\n",
    "<p style=\"margin-bottom:6pt;text-align:justify\"><font size=\"4\"><span style=\"font-family:Times New Roman\" lang=\"EN-US\">E</span><span style=\"font-family:Times New Roman\" lang=\"RU\">AX</span></font></p>\n",
    "</td>\n",
    "<td style=\"border-top:none;border-left:none;border-bottom:solid black 1.0pt;border-right:solid black 1.0pt;padding:0cm 5.4pt 0cm 5.4pt\" valign=\"top\">\n",
    "<p style=\"margin-bottom:6pt;text-align:justify\"><font size=\"4\"><span style=\"font-family:Times New Roman\" lang=\"EN-US\">E</span><span style=\"font-family:Times New Roman\" lang=\"RU\">DX</span></font></p>\n",
    "</td>\n",
    "</tr>\n",
    "</tbody></table>\n",
    "</div>\n",
    "\n",
    "Пример:\n",
    "```asm\n",
    "%include \"io.inc\"\n",
    "\n",
    "section .text\n",
    "global CMAIN\n",
    "CMAIN:\n",
    "    mov ax,5  ; 0x0005\n",
    "    mov cl,5  ; 0x05\n",
    "    div cl    ;AL = AX / CL, остаток в AH\n",
    "    ret\n",
    "```\n",
    "\n",
    "## Деление чисел co знаком\n",
    "\n",
    "**IDIV** – команда деления чисел со знаком. Единственным операндом является делитель. Местоположение делимого и частного определяется также, как для команды **DIV**. Эта команда тоже генерирует прерывание при делении на ноль или слишком большом частном.\n",
    "\n",
    "\n",
    "### Пример\n",
    "\n",
    "(5 + 7) / (2 * 3)\n",
    "\n",
    "```asm\n",
    "%include \"io.inc\"\n",
    "\n",
    "section .text\n",
    "global CMAIN\n",
    "CMAIN:\n",
    "    mov bx, 5 ;BL = 5\n",
    "    add bx, 7 ;BL = BL + 7 = 12\n",
    "    mov al, 2 ;AL = 2\n",
    "    mov cl, 3 ;CL = 3\n",
    "    mul cl    ;AX = AL * CL = 6\n",
    "\n",
    "    ;AX = 6, BX = 12\n",
    "\n",
    "    xchg bx, ax ;AX = 12, BX = 6\n",
    "    mov dx, 0\n",
    "    div bx    \n",
    "    ret\n",
    "```\n",
    "\n"
   ]
  },
  {
   "cell_type": "code",
   "execution_count": null,
   "metadata": {},
   "outputs": [],
   "source": []
  },
  {
   "cell_type": "code",
   "execution_count": null,
   "metadata": {},
   "outputs": [],
   "source": []
  },
  {
   "cell_type": "code",
   "execution_count": null,
   "metadata": {},
   "outputs": [],
   "source": []
  },
  {
   "cell_type": "code",
   "execution_count": null,
   "metadata": {},
   "outputs": [],
   "source": []
  },
  {
   "cell_type": "code",
   "execution_count": null,
   "metadata": {},
   "outputs": [],
   "source": []
  },
  {
   "cell_type": "code",
   "execution_count": null,
   "metadata": {},
   "outputs": [],
   "source": []
  },
  {
   "cell_type": "code",
   "execution_count": null,
   "metadata": {},
   "outputs": [],
   "source": []
  },
  {
   "cell_type": "code",
   "execution_count": null,
   "metadata": {},
   "outputs": [],
   "source": []
  },
  {
   "cell_type": "code",
   "execution_count": null,
   "metadata": {},
   "outputs": [],
   "source": []
  },
  {
   "cell_type": "code",
   "execution_count": null,
   "metadata": {},
   "outputs": [],
   "source": []
  },
  {
   "cell_type": "code",
   "execution_count": null,
   "metadata": {},
   "outputs": [],
   "source": []
  },
  {
   "cell_type": "code",
   "execution_count": null,
   "metadata": {},
   "outputs": [],
   "source": []
  },
  {
   "cell_type": "code",
   "execution_count": null,
   "metadata": {},
   "outputs": [],
   "source": []
  },
  {
   "cell_type": "code",
   "execution_count": null,
   "metadata": {},
   "outputs": [],
   "source": []
  },
  {
   "cell_type": "code",
   "execution_count": null,
   "metadata": {},
   "outputs": [],
   "source": []
  },
  {
   "cell_type": "code",
   "execution_count": null,
   "metadata": {},
   "outputs": [],
   "source": []
  },
  {
   "cell_type": "code",
   "execution_count": null,
   "metadata": {},
   "outputs": [],
   "source": []
  },
  {
   "cell_type": "code",
   "execution_count": null,
   "metadata": {},
   "outputs": [],
   "source": []
  },
  {
   "cell_type": "code",
   "execution_count": null,
   "metadata": {},
   "outputs": [],
   "source": []
  },
  {
   "cell_type": "code",
   "execution_count": null,
   "metadata": {},
   "outputs": [],
   "source": []
  },
  {
   "cell_type": "code",
   "execution_count": null,
   "metadata": {},
   "outputs": [],
   "source": []
  },
  {
   "cell_type": "code",
   "execution_count": null,
   "metadata": {},
   "outputs": [],
   "source": []
  },
  {
   "cell_type": "code",
   "execution_count": null,
   "metadata": {},
   "outputs": [],
   "source": []
  },
  {
   "cell_type": "code",
   "execution_count": null,
   "metadata": {},
   "outputs": [],
   "source": []
  },
  {
   "cell_type": "code",
   "execution_count": null,
   "metadata": {},
   "outputs": [],
   "source": []
  },
  {
   "cell_type": "code",
   "execution_count": null,
   "metadata": {},
   "outputs": [],
   "source": []
  },
  {
   "cell_type": "code",
   "execution_count": null,
   "metadata": {},
   "outputs": [],
   "source": []
  },
  {
   "cell_type": "code",
   "execution_count": null,
   "metadata": {},
   "outputs": [],
   "source": []
  }
 ],
 "metadata": {
  "kernelspec": {
   "display_name": "Python 3",
   "language": "python",
   "name": "python3"
  },
  "language_info": {
   "codemirror_mode": {
    "name": "ipython",
    "version": 3
   },
   "file_extension": ".py",
   "mimetype": "text/x-python",
   "name": "python",
   "nbconvert_exporter": "python",
   "pygments_lexer": "ipython3",
   "version": "3.7.12"
  },
  "latex_envs": {
   "LaTeX_envs_menu_present": true,
   "autoclose": false,
   "autocomplete": true,
   "bibliofile": "biblio.bib",
   "cite_by": "apalike",
   "current_citInitial": 1,
   "eqLabelWithNumbers": true,
   "eqNumInitial": 1,
   "hotkeys": {
    "equation": "Ctrl-E",
    "itemize": "Ctrl-I"
   },
   "labels_anchors": false,
   "latex_user_defs": false,
   "report_style_numbering": false,
   "user_envs_cfg": false
  },
  "varInspector": {
   "cols": {
    "lenName": 16,
    "lenType": 16,
    "lenVar": 40
   },
   "kernels_config": {
    "python": {
     "delete_cmd_postfix": "",
     "delete_cmd_prefix": "del ",
     "library": "var_list.py",
     "varRefreshCmd": "print(var_dic_list())"
    },
    "r": {
     "delete_cmd_postfix": ") ",
     "delete_cmd_prefix": "rm(",
     "library": "var_list.r",
     "varRefreshCmd": "cat(var_dic_list()) "
    }
   },
   "oldHeight": 122.850334,
   "position": {
    "height": "144.517px",
    "left": "1163.17px",
    "right": "20px",
    "top": "119px",
    "width": "350px"
   },
   "types_to_exclude": [
    "module",
    "function",
    "builtin_function_or_method",
    "instance",
    "_Feature"
   ],
   "varInspector_section_display": "block",
   "window_display": true
  }
 },
 "nbformat": 4,
 "nbformat_minor": 2
}
