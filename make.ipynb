{
 "cells": [
  {
   "cell_type": "markdown",
   "id": "5da8ae59",
   "metadata": {},
   "source": [
    "<div><img src=\"Images/SKI_Header_1_Tr.png\" width=\"150%\"/></div>\n",
    "<p style=\"text-align: center; font-size: 36pt; font-weight: bold; color: rgb(0, 0, 190); padding: 20px; margin-top: 2%;\">КУРС</p>\n",
    "<p style=\"text-align: center; font-size: 36pt; font-weight: bold; color: rgb(0, 0, 190); padding: 40px; margin-top: -3%; line-height: 100%;\">Архитектура ЭВМ и язык ассемблера</p>\n",
    "<p style=\"text-align: center; font-size: 28pt; font-weight: bold; color: rgb(0, 0, 190); padding: 40px; margin-top: -3%; line-height: 100%;\">СЕМИНАРЫ</p>\n",
    "<p style=\"text-align: left; font-size: 16pt; font-weight: bold; color: rgb(0, 0, 190); padding: 20px; margin-top: -2%; line-height: 10%;\">Преподаватель:</p>\n",
    "<p style=\"text-align: left; font-size: 16pt; font-weight: bold; color: rgb(0, 0, 190); padding: 18px; margin-top: -2%; line-height: 100%;\">&nbsp;&nbsp;&nbsp;&nbsp;&nbsp;&nbsp;&nbsp;&nbsp;&nbsp;Русол Андрей Владимирович, к.т.н., с.н.с. ГЕОХИ РАН</p>\n",
    "<p style=\"text-align: center; font-size: 16pt; font-weight: bold; color: rgb(0, 0, 190); padding: 20px; margin-top: 2%;\">Москва 2023</p>\n"
   ]
  },
  {
   "cell_type": "markdown",
   "id": "3f75b361",
   "metadata": {},
   "source": [
    "<p style=\"text-align: center; font-size: 28pt; font-weight: bold; color: rgb(0, 0, 190); padding: 40px; margin-top: -3%; line-height: 100%;\">Утилита make</p>\n",
    "\n",
    "Утилита ***make*** была создана в 1976 году Стюартом Фельдманом (Stuart Feldman) из Bell Labs. Ее первоначальное предназначение автоматизировать процессы преобразования файлов, но постепенно функционал развивался, и в настоящее время ***make*** гибкая многофункциональная утилита. \n",
    "\n",
    "Работа утилиты ***make*** управляется файлом, содержащим описание процессов преобразования, например, компиляции и сборки. По умолчанию, управляющий файл имеет имя ***Makefile***, и должен располагаться в дирректории с основными файлами проекта. Если по каким-то причинам имя ***make***-файла отличается от стандартного, то его надо указывать утилите ***make*** с помощью ключа ***-f***. \n",
    "\n",
    "***Makefile*** имеет определенную структуру\n",
    "```c\n",
    "<цели>: <реквизиты>\n",
    "\t<команда #1>\n",
    "\t...\n",
    "\t<команда #n>\n",
    "\n",
    "```\n",
    "***ВАЖНО:*** все отступы от левогокрая в ***make***-файлах должны обеспечиваться только символами <ТАБУЛЯЦИИ>. Если ваш текстовый редактор настроен на замену символа <ТАБУЛЯЦИИ> последовательностями символов <ПРОБЕЛ>, то при вызове утилиты ***make*** будет возникать ошибка.\n",
    "\n",
    "Правило утилиты ***make*** это схема действий:\n",
    "\n",
    "```\n",
    "{Из чего? (реквизиты)} ---> [Как? (команды)] ---> {Что? (цели)}\n",
    "\n",
    "```\n",
    "Процессы трансляции и компиляции очень хорошо вписываются в эту схему:\n",
    "\n",
    "```\n",
    "{исходные файлы} ---> [трансляция] ---> {объектные файлы}\n",
    "\n",
    "{объектные файлы} ---> [линковка] ---> {исполнимые файлы}\n",
    "\n",
    "```"
   ]
  },
  {
   "cell_type": "markdown",
   "id": "9f1f1995",
   "metadata": {},
   "source": [
    "# Простейший пример\n",
    "\n",
    "Рассмотрим создание простейшего приложения, выводящего в терминал \"Привет, Мир 2023 Года !!!\" \n",
    "\n",
    "```C\n",
    "/*\n",
    " Ex_1.c\n",
    "*/\n",
    "#include <stdio.h>\n",
    "int main()\n",
    "{\n",
    "        printf(\"Привет, Мир 2023 Года !!!\\n\");\n",
    "        return 0;\n",
    "}\n",
    "```"
   ]
  },
  {
   "cell_type": "code",
   "execution_count": 8,
   "id": "6ae51dde",
   "metadata": {
    "ExecuteTime": {
     "end_time": "2023-03-30T22:59:00.690323Z",
     "start_time": "2023-03-30T22:59:00.686890Z"
    }
   },
   "outputs": [
    {
     "name": "stdout",
     "output_type": "stream",
     "text": [
      "Overwriting EXAMPLES/Ex_1.c\n"
     ]
    }
   ],
   "source": [
    "%%writefile EXAMPLES/Ex_1.c\n",
    "/*\n",
    "  Ex_1.c\n",
    "*/\n",
    "#include <stdio.h>\n",
    "int main()\n",
    "{\n",
    "        printf(\"Привет, Мир 2023 Года !!!\\n\");\n",
    "        return 0;\n",
    "}"
   ]
  },
  {
   "cell_type": "markdown",
   "id": "7b0872eb",
   "metadata": {},
   "source": [
    "Для создания исполнимого файла необходимо выполнитть команду (с учетом пути к файлу)\n",
    "```bash\n",
    "gcc EXAMPLES/Ex_1.c -o EXAMPLES/ex_1\n",
    "```"
   ]
  },
  {
   "cell_type": "code",
   "execution_count": 9,
   "id": "cd0f8e71",
   "metadata": {
    "ExecuteTime": {
     "end_time": "2023-03-30T22:59:02.663984Z",
     "start_time": "2023-03-30T22:59:02.528357Z"
    }
   },
   "outputs": [],
   "source": [
    "!gcc EXAMPLES/Ex_1.c -o EXAMPLES/ex_1"
   ]
  },
  {
   "cell_type": "code",
   "execution_count": 10,
   "id": "1494b0e6",
   "metadata": {
    "ExecuteTime": {
     "end_time": "2023-03-30T22:59:03.603156Z",
     "start_time": "2023-03-30T22:59:03.492251Z"
    }
   },
   "outputs": [
    {
     "name": "stdout",
     "output_type": "stream",
     "text": [
      "Привет, Мир 2023 Года !!!\r\n"
     ]
    }
   ],
   "source": [
    "!EXAMPLES/ex_1"
   ]
  },
  {
   "cell_type": "markdown",
   "id": "71103f70",
   "metadata": {},
   "source": [
    "Простейший ***Makefile*** должен содержать:\n",
    "- цель с реквизитами\n",
    "- правило компиляции цели\n",
    "\n",
    "```C\n",
    "ex_1: Ex_1.c\n",
    "\tgcc Ex_1.c -o ex_1\n",
    "```\n"
   ]
  },
  {
   "cell_type": "markdown",
   "id": "2a9f3dd2",
   "metadata": {},
   "source": [
    "Так как в файле только одна цель, то для выполнения компиляции достаточно просто запустить утилиту ***make*** в директории проекта. \n",
    "```bash\n",
    "make\n",
    "```\n",
    "Однако можно и указать цель \n",
    "```bash\n",
    "make ex_1\n",
    "```\n",
    "Если с точки зрения утилиты ***make*** цель не требует новой сборки, то будет выдано сообщение\n",
    "```bash\n",
    "make: 'ex_1' is up to date.\n",
    "```\n",
    "Поэтому хороший ***Makefile*** должен содержать цель очитски директории проекта от файлов, которым может потребоваться сборка\n",
    "```C\n",
    "ex_1: Ex_1.c\n",
    "\tgcc Ex_1.c -o ex_1\n",
    "clean: \n",
    "\trm ex_1\n",
    "\n",
    "```\n",
    "Вызов утилиты ***make*** с указанием цели ***clean***\n",
    "```bash\n",
    "make clean\n",
    "```\n",
    "приведет к удалению исполнимого файла ***ex_1***. Теперь снова можно вызвать утилиту ***make***, но с обязательным указанием цели ***ex_1***. Исполнимый файл ***ex_1*** будет собран заново.\n",
    "\n",
    "Еще одна цель, которая должна присутствовать в хорошем ***Makefile***, цель создания архива проекта\n",
    "```C\n",
    "ex_1: Ex_1.c\n",
    "\tgcc Ex_1.c -o ex_1\n",
    "clean: \n",
    "\trm ex_1\n",
    "arc: \n",
    "\tmkdir -p ARC\n",
    "\tzip `date +%Y.%m.%d_%N`.zip ex_1 Ex_1.c Makefile \n",
    "\tmv *.zip ARC/\n",
    "\tmake clean\n",
    "```\n",
    "В ***Makefile*** может присутсвовать стандарная цель ***all***\n",
    "```C\n",
    "all: ex_1 arc \n",
    "ex_1: Ex_1.c\n",
    "\tgcc Ex_1.c -o ex_1\n",
    "clean: \n",
    "\trm ex_1\n",
    "arc: \n",
    "\tmkdir -p ARC\n",
    "\tzip `date +%Y.%m.%d_%N`.zip ex_1 Ex_1.c Makefile \n",
    "\tmv *.zip ARC/\n",
    "\n",
    "```\n",
    "Для того чтобы запретить утилите ***make*** искать файлы с именами ***all clean arc***, их следует указать в директиве ***.PHONY*** в начале ***Makefile***.\n",
    "```C\n",
    ".PHONY: all clean arc\n",
    "\n",
    "all: ex_1 arc\n",
    "ex_1: Ex_1.c\n",
    "\tgcc Ex_1.c -o ex_1\n",
    "clean: \n",
    "\trm ex_1\n",
    "arc: \n",
    "\tmkdir -p ARC\n",
    "\tzip `date +%Y.%m.%d_%N`.zip ex_1 Ex_1.c Makefile \n",
    "\tmv *.zip ARC/\n",
    "\n",
    "```\n"
   ]
  },
  {
   "cell_type": "markdown",
   "id": "70c63ae9",
   "metadata": {},
   "source": [
    "## Пример Makefile\n",
    "\n",
    "```bash\n",
    ".PHONY: all clean arc\n",
    "\n",
    "all: main.o f1.o f2.o f3.o main_prog \n",
    "main_prog: \n",
    "\tgcc -m32 -lm main.o f1.o f2.o f3.o -o main_prog \n",
    "main.o: \n",
    "\tgcc -m32 -c main.c -o main.o\n",
    "f1.o: \n",
    "\tnasm -f elf32 f1.asm -o f1.o \n",
    "f2.o: \n",
    "\tnasm -f elf32 f2.asm -o f2.o \n",
    "f3.o: \n",
    "\tnasm -f elf32 f3.asm -o f3.o\n",
    "clean:\n",
    "\trm *.o main_prog\n",
    "arc:\n",
    "\tmkdir -p ARC\n",
    "\tzip `date +%Y.%m.%d_%N`.zip main_prog f1.asm f2.asm f3.asm main.c Makefile \n",
    "\tmv *.zip ARC/\n",
    "\t\n",
    "```"
   ]
  },
  {
   "cell_type": "code",
   "execution_count": null,
   "id": "d746bc47",
   "metadata": {},
   "outputs": [],
   "source": []
  },
  {
   "cell_type": "code",
   "execution_count": null,
   "id": "7926e298",
   "metadata": {},
   "outputs": [],
   "source": []
  },
  {
   "cell_type": "code",
   "execution_count": null,
   "id": "bb5375e9",
   "metadata": {},
   "outputs": [],
   "source": []
  },
  {
   "cell_type": "code",
   "execution_count": null,
   "id": "a44251b9",
   "metadata": {},
   "outputs": [],
   "source": []
  },
  {
   "cell_type": "code",
   "execution_count": null,
   "id": "c3907f63",
   "metadata": {},
   "outputs": [],
   "source": []
  },
  {
   "cell_type": "code",
   "execution_count": null,
   "id": "66ae04a8",
   "metadata": {},
   "outputs": [],
   "source": []
  },
  {
   "cell_type": "code",
   "execution_count": null,
   "id": "dc8a1d6b",
   "metadata": {},
   "outputs": [],
   "source": []
  }
 ],
 "metadata": {
  "kernelspec": {
   "display_name": "Python 3 (ipykernel)",
   "language": "python",
   "name": "python3"
  },
  "language_info": {
   "codemirror_mode": {
    "name": "ipython",
    "version": 3
   },
   "file_extension": ".py",
   "mimetype": "text/x-python",
   "name": "python",
   "nbconvert_exporter": "python",
   "pygments_lexer": "ipython3",
   "version": "3.10.6"
  }
 },
 "nbformat": 4,
 "nbformat_minor": 5
}
